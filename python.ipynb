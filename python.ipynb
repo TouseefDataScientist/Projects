{
 "cells": [
  {
   "cell_type": "markdown",
   "metadata": {},
   "source": [
    "### Python <br>\n",
    "#### Display message "
   ]
  },
  {
   "cell_type": "code",
   "execution_count": 8,
   "metadata": {},
   "outputs": [
    {
     "name": "stdout",
     "output_type": "stream",
     "text": [
      "Hello world!\n"
     ]
    }
   ],
   "source": [
    "print(\"Hello world!\")\n",
    "\n"
   ]
  },
  {
   "cell_type": "code",
   "execution_count": 9,
   "metadata": {},
   "outputs": [],
   "source": [
    "#this symbol is used for comment"
   ]
  },
  {
   "cell_type": "markdown",
   "metadata": {},
   "source": [
    "#### Variables and Arithmetic Operators"
   ]
  },
  {
   "cell_type": "code",
   "execution_count": 37,
   "metadata": {},
   "outputs": [
    {
     "name": "stdout",
     "output_type": "stream",
     "text": [
      "Add= 8\n",
      "Division= 1.0\n",
      "Sub 0\n",
      "Multiply= 16\n"
     ]
    }
   ],
   "source": [
    "a=4\n",
    "c=4\n",
    "b=a+c\n",
    "d=a-c\n",
    "e=a/c\n",
    "g=a*c\n",
    "print(\"Add=\",b)\n",
    "print(\"Division=\",e)\n",
    "print(\"Sub\",d)\n",
    "print(\"Multiply=\",g)"
   ]
  },
  {
   "cell_type": "code",
   "execution_count": 17,
   "metadata": {},
   "outputs": [
    {
     "name": "stdout",
     "output_type": "stream",
     "text": [
      "AslamAli\n"
     ]
    }
   ],
   "source": [
    "myname =\"Ali\"\n",
    "my_name= \"Aslam\"\n",
    "print ( my_name  + myname )"
   ]
  },
  {
   "cell_type": "code",
   "execution_count": 20,
   "metadata": {},
   "outputs": [
    {
     "name": "stdout",
     "output_type": "stream",
     "text": [
      "AslamAliMalik\n"
     ]
    }
   ],
   "source": [
    "a,b,c=\"Ali\", \"Aslam\",\"Malik\"\n",
    "print(b+a+c)"
   ]
  },
  {
   "cell_type": "code",
   "execution_count": 24,
   "metadata": {},
   "outputs": [],
   "source": [
    "#global variables\n",
    "x =\" easy language\"\n",
    "def myfunc():\n",
    "    print(\"Python is \" + x)\n",
    "    myfunc()"
   ]
  },
  {
   "cell_type": "code",
   "execution_count": 30,
   "metadata": {},
   "outputs": [
    {
     "name": "stdout",
     "output_type": "stream",
     "text": [
      "<class 'str'>\n",
      "<class 'int'>\n",
      "<class 'float'>\n",
      "<class 'complex'>\n",
      "<class 'list'>\n"
     ]
    }
   ],
   "source": [
    "# Python data types\n",
    "x=\"name\"\n",
    "print(type(x))\n",
    "y=30\n",
    "print(type(y))\n",
    "x=30.45\n",
    "print(type(x))\n",
    "x=1j\n",
    "print(type(x))\n",
    "x=[\"Aslam\", \"Ali\",\"Malik\"]\n",
    "print(type(x))\n"
   ]
  },
  {
   "cell_type": "markdown",
   "metadata": {},
   "source": [
    "#### Python Casting"
   ]
  },
  {
   "cell_type": "code",
   "execution_count": 39,
   "metadata": {},
   "outputs": [
    {
     "name": "stdout",
     "output_type": "stream",
     "text": [
      "33\n",
      "45.6\n",
      "s1\n"
     ]
    }
   ],
   "source": [
    "x= int(33)        #integer\n",
    "y= float(45.6)     #float\n",
    "z= str(\"s1\")      #string \n",
    "print(x)\n",
    "print(y)\n",
    "print(z)"
   ]
  },
  {
   "cell_type": "code",
   "execution_count": 40,
   "metadata": {},
   "outputs": [
    {
     "name": "stdout",
     "output_type": "stream",
     "text": [
      "Aslam Ali Malik\n"
     ]
    }
   ],
   "source": [
    "# String Cancatenation\n",
    "a= \"Aslam\"\n",
    "b=\"Ali\"\n",
    "c=\"Malik\"\n",
    "d=a+\" \"+b +\" \" +c\n",
    "print(d)"
   ]
  },
  {
   "cell_type": "code",
   "execution_count": 48,
   "metadata": {},
   "outputs": [
    {
     "name": "stdout",
     "output_type": "stream",
     "text": [
      "My name is Ali. I'm 20\n",
      "My anme is \"Ali\".I'm 20 \n"
     ]
    }
   ],
   "source": [
    "# String format\n",
    "x=20\n",
    "msg=f\"My name is Ali. I'm {x}\" #f using front of string \n",
    "print(msg)\n",
    "# Escape character\n",
    "msg=\"My anme is \\\"Ali\\\".I'm 20 \" # this \\\" \\\" is used for double quotes inside the message but normally if u use \"\" occur error\n",
    "print(msg)"
   ]
  },
  {
   "cell_type": "markdown",
   "metadata": {},
   "source": [
    "#### Boolean"
   ]
  },
  {
   "cell_type": "code",
   "execution_count": 49,
   "metadata": {},
   "outputs": [
    {
     "name": "stdout",
     "output_type": "stream",
     "text": [
      "y is greater than z\n"
     ]
    }
   ],
   "source": [
    "z= 34\n",
    "y=45\n",
    "if z > y:\n",
    "    print(\"z is greater than y\")\n",
    "else:\n",
    "    print(\"y is greater than z\")\n"
   ]
  },
  {
   "cell_type": "code",
   "execution_count": 53,
   "metadata": {},
   "outputs": [
    {
     "name": "stdout",
     "output_type": "stream",
     "text": [
      "True\n",
      "True\n",
      "False\n",
      "False\n",
      "False\n",
      "True\n"
     ]
    }
   ],
   "source": [
    "# checking which is boolean or not\n",
    "print(bool(\"Ali\"))\n",
    "print(bool(123))\n",
    "print(bool(0))\n",
    "print(bool(()))\n",
    "print(bool({}))\n",
    "print(bool([\"Ali\", \"Aslam\"]))"
   ]
  },
  {
   "cell_type": "markdown",
   "metadata": {},
   "source": [
    "#### Python list"
   ]
  },
  {
   "cell_type": "code",
   "execution_count": 58,
   "metadata": {},
   "outputs": [
    {
     "name": "stdout",
     "output_type": "stream",
     "text": [
      "['white', 'gray', 'navy blue']\n",
      "['black', 'blue', 'orange', 'white', 'gray']\n",
      "['navy blue', 'sky blue']\n"
     ]
    }
   ],
   "source": [
    "# Access list items\n",
    "list =[\"black\", \"blue\",\"orange\",\"white\",\"gray\",\"navy blue\",\"sky blue\"]\n",
    "print(list[3:6])\n",
    "print(list[:5]) # they show first five\n",
    "print(list[5:]) #they display last 2"
   ]
  },
  {
   "cell_type": "code",
   "execution_count": null,
   "metadata": {},
   "outputs": [],
   "source": []
  }
 ],
 "metadata": {
  "kernelspec": {
   "display_name": "Python 3",
   "language": "python",
   "name": "python3"
  },
  "language_info": {
   "codemirror_mode": {
    "name": "ipython",
    "version": 3
   },
   "file_extension": ".py",
   "mimetype": "text/x-python",
   "name": "python",
   "nbconvert_exporter": "python",
   "pygments_lexer": "ipython3",
   "version": "3.13.0"
  }
 },
 "nbformat": 4,
 "nbformat_minor": 2
}
