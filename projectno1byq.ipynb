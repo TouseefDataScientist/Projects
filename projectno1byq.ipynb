{
 "cells": [
  {
   "cell_type": "markdown",
   "metadata": {},
   "source": [
    "<center>Name:Quratulain<br>\n",
    "Email:QuratulainAIML@hotmail.com<br>\n",
    "Github:QuratulainAIML<br>\n",
    "Title: Project Practices</center>\n"
   ]
  },
  {
   "cell_type": "markdown",
   "metadata": {},
   "source": [
    "Python Pandas Data Analysis And cleaning"
   ]
  },
  {
   "cell_type": "markdown",
   "metadata": {},
   "source": [
    "Step1:Import necessary library\n"
   ]
  },
  {
   "cell_type": "markdown",
   "metadata": {},
   "source": []
  },
  {
   "cell_type": "code",
   "execution_count": 1,
   "metadata": {},
   "outputs": [
    {
     "name": "stdout",
     "output_type": "stream",
     "text": [
      "Requirement already satisfied: pandas in c:\\users\\qurat\\appdata\\local\\programs\\python\\python313\\lib\\site-packages (2.2.3)\n",
      "Requirement already satisfied: numpy>=1.26.0 in c:\\users\\qurat\\appdata\\local\\programs\\python\\python313\\lib\\site-packages (from pandas) (2.2.3)\n",
      "Requirement already satisfied: python-dateutil>=2.8.2 in c:\\users\\qurat\\appdata\\roaming\\python\\python313\\site-packages (from pandas) (2.9.0.post0)\n",
      "Requirement already satisfied: pytz>=2020.1 in c:\\users\\qurat\\appdata\\local\\programs\\python\\python313\\lib\\site-packages (from pandas) (2025.1)\n",
      "Requirement already satisfied: tzdata>=2022.7 in c:\\users\\qurat\\appdata\\local\\programs\\python\\python313\\lib\\site-packages (from pandas) (2025.1)\n",
      "Requirement already satisfied: six>=1.5 in c:\\users\\qurat\\appdata\\roaming\\python\\python313\\site-packages (from python-dateutil>=2.8.2->pandas) (1.17.0)\n",
      "Note: you may need to restart the kernel to use updated packages.\n"
     ]
    }
   ],
   "source": [
    "#install pandas library\n",
    "%pip install pandas"
   ]
  },
  {
   "cell_type": "code",
   "execution_count": 2,
   "metadata": {},
   "outputs": [
    {
     "name": "stdout",
     "output_type": "stream",
     "text": [
      "Requirement already satisfied: numpy in c:\\users\\qurat\\appdata\\local\\programs\\python\\python313\\lib\\site-packages (2.2.3)\n",
      "Note: you may need to restart the kernel to use updated packages.\n"
     ]
    }
   ],
   "source": [
    "#install numpy library\n",
    "%pip install numpy\n"
   ]
  },
  {
   "cell_type": "markdown",
   "metadata": {},
   "source": [
    "Step2:Import libraries"
   ]
  },
  {
   "cell_type": "code",
   "execution_count": 3,
   "metadata": {},
   "outputs": [],
   "source": [
    "#import pandas\n",
    "import pandas as pd"
   ]
  },
  {
   "cell_type": "code",
   "execution_count": 4,
   "metadata": {},
   "outputs": [],
   "source": [
    "#import numpy\n",
    "import numpy as np"
   ]
  },
  {
   "cell_type": "markdown",
   "metadata": {},
   "source": [
    "Step3: Load the CSV data into a Dataframe"
   ]
  },
  {
   "cell_type": "code",
   "execution_count": 5,
   "metadata": {},
   "outputs": [
    {
     "name": "stdout",
     "output_type": "stream",
     "text": [
      "This is my CSV dataset\n"
     ]
    },
    {
     "data": {
      "text/html": [
       "<div>\n",
       "<style scoped>\n",
       "    .dataframe tbody tr th:only-of-type {\n",
       "        vertical-align: middle;\n",
       "    }\n",
       "\n",
       "    .dataframe tbody tr th {\n",
       "        vertical-align: top;\n",
       "    }\n",
       "\n",
       "    .dataframe thead th {\n",
       "        text-align: right;\n",
       "    }\n",
       "</style>\n",
       "<table border=\"1\" class=\"dataframe\">\n",
       "  <thead>\n",
       "    <tr style=\"text-align: right;\">\n",
       "      <th></th>\n",
       "      <th>Name</th>\n",
       "      <th>Designation</th>\n",
       "      <th>Gender</th>\n",
       "      <th>Age</th>\n",
       "      <th>Salary</th>\n",
       "    </tr>\n",
       "  </thead>\n",
       "  <tbody>\n",
       "    <tr>\n",
       "      <th>0</th>\n",
       "      <td>Mukhtar</td>\n",
       "      <td>Professor</td>\n",
       "      <td>M</td>\n",
       "      <td>37.0</td>\n",
       "      <td>115000.0</td>\n",
       "    </tr>\n",
       "    <tr>\n",
       "      <th>1</th>\n",
       "      <td>Azziz</td>\n",
       "      <td>Teacher</td>\n",
       "      <td>M</td>\n",
       "      <td>30.0</td>\n",
       "      <td>35000.0</td>\n",
       "    </tr>\n",
       "    <tr>\n",
       "      <th>2</th>\n",
       "      <td>Mohsin</td>\n",
       "      <td>Engineer</td>\n",
       "      <td>M</td>\n",
       "      <td>29.0</td>\n",
       "      <td>50000.0</td>\n",
       "    </tr>\n",
       "    <tr>\n",
       "      <th>3</th>\n",
       "      <td>Naveed Fatima</td>\n",
       "      <td>Analyst</td>\n",
       "      <td>F</td>\n",
       "      <td>30.0</td>\n",
       "      <td>70000.0</td>\n",
       "    </tr>\n",
       "    <tr>\n",
       "      <th>4</th>\n",
       "      <td>Babar</td>\n",
       "      <td>Engineer</td>\n",
       "      <td>F</td>\n",
       "      <td>25.0</td>\n",
       "      <td>1500000.0</td>\n",
       "    </tr>\n",
       "    <tr>\n",
       "      <th>5</th>\n",
       "      <td>Aqsa</td>\n",
       "      <td>Scientist</td>\n",
       "      <td>F</td>\n",
       "      <td>22.0</td>\n",
       "      <td>NaN</td>\n",
       "    </tr>\n",
       "    <tr>\n",
       "      <th>6</th>\n",
       "      <td>Rafia</td>\n",
       "      <td>Analyst</td>\n",
       "      <td>F</td>\n",
       "      <td>29.0</td>\n",
       "      <td>20000.0</td>\n",
       "    </tr>\n",
       "    <tr>\n",
       "      <th>7</th>\n",
       "      <td>Samra</td>\n",
       "      <td>Scientist</td>\n",
       "      <td>F</td>\n",
       "      <td>26.0</td>\n",
       "      <td>115000.0</td>\n",
       "    </tr>\n",
       "    <tr>\n",
       "      <th>8</th>\n",
       "      <td>Eman</td>\n",
       "      <td>Engineer</td>\n",
       "      <td>F</td>\n",
       "      <td>28.0</td>\n",
       "      <td>35000.0</td>\n",
       "    </tr>\n",
       "    <tr>\n",
       "      <th>9</th>\n",
       "      <td>Abdullah</td>\n",
       "      <td>Teacher</td>\n",
       "      <td>M</td>\n",
       "      <td>55.0</td>\n",
       "      <td>NaN</td>\n",
       "    </tr>\n",
       "    <tr>\n",
       "      <th>10</th>\n",
       "      <td>Mosib</td>\n",
       "      <td>professor</td>\n",
       "      <td>M</td>\n",
       "      <td>60.0</td>\n",
       "      <td>70000.0</td>\n",
       "    </tr>\n",
       "    <tr>\n",
       "      <th>11</th>\n",
       "      <td>Ahmed</td>\n",
       "      <td>engineer</td>\n",
       "      <td>M</td>\n",
       "      <td>NaN</td>\n",
       "      <td>90000.0</td>\n",
       "    </tr>\n",
       "    <tr>\n",
       "      <th>12</th>\n",
       "      <td>Ahsan</td>\n",
       "      <td>trainer</td>\n",
       "      <td>M</td>\n",
       "      <td>156.0</td>\n",
       "      <td>110000.0</td>\n",
       "    </tr>\n",
       "    <tr>\n",
       "      <th>13</th>\n",
       "      <td>Wajid</td>\n",
       "      <td>teacher</td>\n",
       "      <td>M</td>\n",
       "      <td>67.0</td>\n",
       "      <td>2000.0</td>\n",
       "    </tr>\n",
       "    <tr>\n",
       "      <th>14</th>\n",
       "      <td>Naeem</td>\n",
       "      <td>trainer</td>\n",
       "      <td>M</td>\n",
       "      <td>80.0</td>\n",
       "      <td>16000.0</td>\n",
       "    </tr>\n",
       "    <tr>\n",
       "      <th>15</th>\n",
       "      <td>Qaisar</td>\n",
       "      <td>professor</td>\n",
       "      <td>M</td>\n",
       "      <td>20.0</td>\n",
       "      <td>170000.0</td>\n",
       "    </tr>\n",
       "    <tr>\n",
       "      <th>16</th>\n",
       "      <td>Wajid</td>\n",
       "      <td>Engineer</td>\n",
       "      <td>M</td>\n",
       "      <td>85.0</td>\n",
       "      <td>190000.0</td>\n",
       "    </tr>\n",
       "  </tbody>\n",
       "</table>\n",
       "</div>"
      ],
      "text/plain": [
       "             Name Designation Gender    Age     Salary\n",
       "0         Mukhtar   Professor      M   37.0   115000.0\n",
       "1           Azziz     Teacher      M   30.0    35000.0\n",
       "2          Mohsin    Engineer      M   29.0    50000.0\n",
       "3   Naveed Fatima     Analyst      F   30.0    70000.0\n",
       "4           Babar    Engineer      F   25.0  1500000.0\n",
       "5            Aqsa   Scientist      F   22.0        NaN\n",
       "6           Rafia     Analyst      F   29.0    20000.0\n",
       "7           Samra   Scientist      F   26.0   115000.0\n",
       "8            Eman    Engineer      F   28.0    35000.0\n",
       "9        Abdullah     Teacher      M   55.0        NaN\n",
       "10          Mosib   professor      M   60.0    70000.0\n",
       "11          Ahmed    engineer      M    NaN    90000.0\n",
       "12          Ahsan     trainer      M  156.0   110000.0\n",
       "13          Wajid     teacher      M   67.0     2000.0\n",
       "14          Naeem     trainer      M   80.0    16000.0\n",
       "15         Qaisar   professor      M   20.0   170000.0\n",
       "16          Wajid    Engineer      M   85.0   190000.0"
      ]
     },
     "execution_count": 5,
     "metadata": {},
     "output_type": "execute_result"
    }
   ],
   "source": [
    "#loading dataset\n",
    "df=pd.read_csv('data.csv')\n",
    "print(\"This is my CSV dataset\")\n",
    "df"
   ]
  },
  {
   "cell_type": "markdown",
   "metadata": {},
   "source": [
    "Display first five rows of CSV Dataset"
   ]
  },
  {
   "cell_type": "code",
   "execution_count": 6,
   "metadata": {},
   "outputs": [
    {
     "data": {
      "text/html": [
       "<div>\n",
       "<style scoped>\n",
       "    .dataframe tbody tr th:only-of-type {\n",
       "        vertical-align: middle;\n",
       "    }\n",
       "\n",
       "    .dataframe tbody tr th {\n",
       "        vertical-align: top;\n",
       "    }\n",
       "\n",
       "    .dataframe thead th {\n",
       "        text-align: right;\n",
       "    }\n",
       "</style>\n",
       "<table border=\"1\" class=\"dataframe\">\n",
       "  <thead>\n",
       "    <tr style=\"text-align: right;\">\n",
       "      <th></th>\n",
       "      <th>Name</th>\n",
       "      <th>Designation</th>\n",
       "      <th>Gender</th>\n",
       "      <th>Age</th>\n",
       "      <th>Salary</th>\n",
       "    </tr>\n",
       "  </thead>\n",
       "  <tbody>\n",
       "    <tr>\n",
       "      <th>0</th>\n",
       "      <td>Mukhtar</td>\n",
       "      <td>Professor</td>\n",
       "      <td>M</td>\n",
       "      <td>37.0</td>\n",
       "      <td>115000.0</td>\n",
       "    </tr>\n",
       "    <tr>\n",
       "      <th>1</th>\n",
       "      <td>Azziz</td>\n",
       "      <td>Teacher</td>\n",
       "      <td>M</td>\n",
       "      <td>30.0</td>\n",
       "      <td>35000.0</td>\n",
       "    </tr>\n",
       "    <tr>\n",
       "      <th>2</th>\n",
       "      <td>Mohsin</td>\n",
       "      <td>Engineer</td>\n",
       "      <td>M</td>\n",
       "      <td>29.0</td>\n",
       "      <td>50000.0</td>\n",
       "    </tr>\n",
       "    <tr>\n",
       "      <th>3</th>\n",
       "      <td>Naveed Fatima</td>\n",
       "      <td>Analyst</td>\n",
       "      <td>F</td>\n",
       "      <td>30.0</td>\n",
       "      <td>70000.0</td>\n",
       "    </tr>\n",
       "    <tr>\n",
       "      <th>4</th>\n",
       "      <td>Babar</td>\n",
       "      <td>Engineer</td>\n",
       "      <td>F</td>\n",
       "      <td>25.0</td>\n",
       "      <td>1500000.0</td>\n",
       "    </tr>\n",
       "  </tbody>\n",
       "</table>\n",
       "</div>"
      ],
      "text/plain": [
       "            Name Designation Gender   Age     Salary\n",
       "0        Mukhtar   Professor      M  37.0   115000.0\n",
       "1          Azziz     Teacher      M  30.0    35000.0\n",
       "2         Mohsin    Engineer      M  29.0    50000.0\n",
       "3  Naveed Fatima     Analyst      F  30.0    70000.0\n",
       "4          Babar    Engineer      F  25.0  1500000.0"
      ]
     },
     "execution_count": 6,
     "metadata": {},
     "output_type": "execute_result"
    }
   ],
   "source": [
    "#Display first five rows of CSV Dataset\n",
    "df.head()"
   ]
  },
  {
   "cell_type": "markdown",
   "metadata": {},
   "source": [
    "step4: check null values"
   ]
  },
  {
   "cell_type": "code",
   "execution_count": 7,
   "metadata": {},
   "outputs": [
    {
     "name": "stdout",
     "output_type": "stream",
     "text": [
      "Name           0\n",
      "Designation    0\n",
      "Gender         0\n",
      "Age            1\n",
      "Salary         2\n",
      "dtype: int64\n"
     ]
    }
   ],
   "source": [
    "# check null values\n",
    "print(df.isnull().sum())"
   ]
  },
  {
   "cell_type": "markdown",
   "metadata": {},
   "source": [
    "step5: Fill missing values in the Salary column with the mean salary"
   ]
  },
  {
   "cell_type": "code",
   "execution_count": 8,
   "metadata": {},
   "outputs": [
    {
     "name": "stderr",
     "output_type": "stream",
     "text": [
      "C:\\Users\\qurat\\AppData\\Local\\Temp\\ipykernel_11228\\2486365635.py:3: FutureWarning: A value is trying to be set on a copy of a DataFrame or Series through chained assignment using an inplace method.\n",
      "The behavior will change in pandas 3.0. This inplace method will never work because the intermediate object on which we are setting values always behaves as a copy.\n",
      "\n",
      "For example, when doing 'df[col].method(value, inplace=True)', try using 'df.method({col: value}, inplace=True)' or df[col] = df[col].method(value) instead, to perform the operation inplace on the original object.\n",
      "\n",
      "\n",
      "  df['Salary'].fillna(ms,inplace=True)\n"
     ]
    }
   ],
   "source": [
    "# Fill missing values in the Salary column with the mean salary\n",
    "ms=df['Salary'].mean()\n",
    "df['Salary'].fillna(ms,inplace=True)\n"
   ]
  },
  {
   "cell_type": "markdown",
   "metadata": {},
   "source": [
    "Replace null values in salary with mean"
   ]
  },
  {
   "cell_type": "code",
   "execution_count": 9,
   "metadata": {},
   "outputs": [
    {
     "name": "stdout",
     "output_type": "stream",
     "text": [
      "0     1.150000e+05\n",
      "1     3.500000e+04\n",
      "2     5.000000e+04\n",
      "3     7.000000e+04\n",
      "4     1.500000e+06\n",
      "5     1.725333e+05\n",
      "6     2.000000e+04\n",
      "7     1.150000e+05\n",
      "8     3.500000e+04\n",
      "9     1.725333e+05\n",
      "10    7.000000e+04\n",
      "11    9.000000e+04\n",
      "12    1.100000e+05\n",
      "13    2.000000e+03\n",
      "14    1.600000e+04\n",
      "15    1.700000e+05\n",
      "16    1.900000e+05\n",
      "Name: Salary, dtype: float64\n"
     ]
    }
   ],
   "source": [
    "mean_salary=df['Salary'].fillna(df['Salary'].mean())\n",
    "print(mean_salary)"
   ]
  },
  {
   "cell_type": "markdown",
   "metadata": {},
   "source": [
    "Check if the null value is replaced or not"
   ]
  },
  {
   "cell_type": "code",
   "execution_count": 10,
   "metadata": {},
   "outputs": [
    {
     "data": {
      "text/plain": [
       "np.int64(0)"
      ]
     },
     "execution_count": 10,
     "metadata": {},
     "output_type": "execute_result"
    }
   ],
   "source": [
    "\n",
    "df['Salary'].isnull().sum()"
   ]
  },
  {
   "cell_type": "markdown",
   "metadata": {},
   "source": [
    "step6:Check null values in age column"
   ]
  },
  {
   "cell_type": "code",
   "execution_count": 11,
   "metadata": {},
   "outputs": [
    {
     "data": {
      "text/plain": [
       "np.int64(1)"
      ]
     },
     "execution_count": 11,
     "metadata": {},
     "output_type": "execute_result"
    }
   ],
   "source": [
    "df['Age'].isnull().sum()"
   ]
  },
  {
   "cell_type": "markdown",
   "metadata": {},
   "source": [
    "replace null values in age with median"
   ]
  },
  {
   "cell_type": "code",
   "execution_count": 12,
   "metadata": {},
   "outputs": [
    {
     "name": "stdout",
     "output_type": "stream",
     "text": [
      "0      37.0\n",
      "1      30.0\n",
      "2      29.0\n",
      "3      30.0\n",
      "4      25.0\n",
      "5      22.0\n",
      "6      29.0\n",
      "7      26.0\n",
      "8      28.0\n",
      "9      55.0\n",
      "10     60.0\n",
      "11     30.0\n",
      "12    156.0\n",
      "13     67.0\n",
      "14     80.0\n",
      "15     20.0\n",
      "16     85.0\n",
      "Name: Age, dtype: float64\n"
     ]
    }
   ],
   "source": [
    "df['Age']=df['Age'].fillna(df['Age'].median())\n",
    "print(df['Age'])"
   ]
  },
  {
   "cell_type": "markdown",
   "metadata": {},
   "source": [
    "Check null values in Age column"
   ]
  },
  {
   "cell_type": "code",
   "execution_count": 13,
   "metadata": {},
   "outputs": [
    {
     "data": {
      "text/plain": [
       "np.int64(0)"
      ]
     },
     "execution_count": 13,
     "metadata": {},
     "output_type": "execute_result"
    }
   ],
   "source": [
    "df['Age'].isnull().sum()"
   ]
  },
  {
   "cell_type": "code",
   "execution_count": 14,
   "metadata": {},
   "outputs": [
    {
     "data": {
      "text/plain": [
       "Name           0\n",
       "Designation    0\n",
       "Gender         0\n",
       "Age            0\n",
       "Salary         0\n",
       "dtype: int64"
      ]
     },
     "execution_count": 14,
     "metadata": {},
     "output_type": "execute_result"
    }
   ],
   "source": [
    "df.isnull().sum()"
   ]
  },
  {
   "cell_type": "markdown",
   "metadata": {},
   "source": [
    "step 7: Correct any obvious data entry error in the 'Age column'"
   ]
  },
  {
   "cell_type": "code",
   "execution_count": 15,
   "metadata": {},
   "outputs": [
    {
     "name": "stderr",
     "output_type": "stream",
     "text": [
      "C:\\Users\\qurat\\AppData\\Local\\Temp\\ipykernel_11228\\2264594927.py:2: FutureWarning: A value is trying to be set on a copy of a DataFrame or Series through chained assignment using an inplace method.\n",
      "The behavior will change in pandas 3.0. This inplace method will never work because the intermediate object on which we are setting values always behaves as a copy.\n",
      "\n",
      "For example, when doing 'df[col].method(value, inplace=True)', try using 'df.method({col: value}, inplace=True)' or df[col] = df[col].method(value) instead, to perform the operation inplace on the original object.\n",
      "\n",
      "\n",
      "  df['Age'].fillna(AgeMedian,inplace=True)\n"
     ]
    },
    {
     "data": {
      "text/plain": [
       "0     37.0\n",
       "1     30.0\n",
       "2     29.0\n",
       "3     30.0\n",
       "4     25.0\n",
       "5     22.0\n",
       "6     29.0\n",
       "7     26.0\n",
       "8     28.0\n",
       "9     55.0\n",
       "10    60.0\n",
       "11    30.0\n",
       "12    30.0\n",
       "13    67.0\n",
       "14    80.0\n",
       "15    20.0\n",
       "16    85.0\n",
       "Name: Age, dtype: float64"
      ]
     },
     "execution_count": 15,
     "metadata": {},
     "output_type": "execute_result"
    }
   ],
   "source": [
    "AgeMedian=df['Age'].median()\n",
    "df['Age'].fillna(AgeMedian,inplace=True)\n",
    "df['Age']=df['Age'].apply(lambda x: x if x<120 else AgeMedian)\n",
    "df['Age'].isnull().sum()\n",
    "df['Age']"
   ]
  },
  {
   "cell_type": "markdown",
   "metadata": {},
   "source": [
    "Step8: Correct any obvious data entry error in the salary column"
   ]
  },
  {
   "cell_type": "code",
   "execution_count": 16,
   "metadata": {},
   "outputs": [
    {
     "name": "stderr",
     "output_type": "stream",
     "text": [
      "C:\\Users\\qurat\\AppData\\Local\\Temp\\ipykernel_11228\\3900205010.py:2: FutureWarning: A value is trying to be set on a copy of a DataFrame or Series through chained assignment using an inplace method.\n",
      "The behavior will change in pandas 3.0. This inplace method will never work because the intermediate object on which we are setting values always behaves as a copy.\n",
      "\n",
      "For example, when doing 'df[col].method(value, inplace=True)', try using 'df.method({col: value}, inplace=True)' or df[col] = df[col].method(value) instead, to perform the operation inplace on the original object.\n",
      "\n",
      "\n",
      "  df['Salary'].fillna(AgeMedian,inplace=True)\n"
     ]
    },
    {
     "data": {
      "text/plain": [
       "0     90000.0\n",
       "1     35000.0\n",
       "2     50000.0\n",
       "3     70000.0\n",
       "4     90000.0\n",
       "5     90000.0\n",
       "6     20000.0\n",
       "7     90000.0\n",
       "8     35000.0\n",
       "9     90000.0\n",
       "10    70000.0\n",
       "11    90000.0\n",
       "12    90000.0\n",
       "13     2000.0\n",
       "14    16000.0\n",
       "15    90000.0\n",
       "16    90000.0\n",
       "Name: Salary, dtype: float64"
      ]
     },
     "execution_count": 16,
     "metadata": {},
     "output_type": "execute_result"
    }
   ],
   "source": [
    "salarymean=df['Salary'].median()\n",
    "df['Salary'].fillna(AgeMedian,inplace=True)\n",
    "df['Salary']=df['Salary'].apply(lambda x: x if x<100000 else salarymean)\n",
    "df['Salary'].isnull().sum()\n",
    "df['Salary']"
   ]
  },
  {
   "cell_type": "markdown",
   "metadata": {},
   "source": [
    "Step9: Change all initials from lower to uppercase in designation column"
   ]
  },
  {
   "cell_type": "code",
   "execution_count": 31,
   "metadata": {},
   "outputs": [
    {
     "data": {
      "text/plain": [
       "0     Professor\n",
       "1       Teacher\n",
       "2      Engineer\n",
       "3       Analyst\n",
       "4      Engineer\n",
       "5     Scientist\n",
       "6       Analyst\n",
       "7     Scientist\n",
       "8      Engineer\n",
       "9       Teacher\n",
       "10    Professor\n",
       "11     Engineer\n",
       "12      Trainer\n",
       "13      Teacher\n",
       "14      Trainer\n",
       "15    Professor\n",
       "16     Engineer\n",
       "Name: Designation, dtype: object"
      ]
     },
     "execution_count": 31,
     "metadata": {},
     "output_type": "execute_result"
    }
   ],
   "source": [
    "#remove all lower case initials\n",
    "df['Designation']= df['Designation'].str.title()\n",
    "df['Designation']"
   ]
  },
  {
   "cell_type": "markdown",
   "metadata": {},
   "source": [
    "Step10: Group by Designation and calaculate mean salary for each designation"
   ]
  },
  {
   "cell_type": "code",
   "execution_count": 30,
   "metadata": {},
   "outputs": [
    {
     "data": {
      "text/plain": [
       "Designation\n",
       "Analyst      45000.000000\n",
       "Engineer     71000.000000\n",
       "Professor    83333.333333\n",
       "Scientist    90000.000000\n",
       "Teacher      42333.333333\n",
       "Trainer      53000.000000\n",
       "Name: Salary, dtype: float64"
      ]
     },
     "execution_count": 30,
     "metadata": {},
     "output_type": "execute_result"
    }
   ],
   "source": [
    "# group by Designation and calculate its mean salary\n",
    "salarybycheckingdesignation=df.groupby('Designation')['Salary'].mean()\n",
    "salarybycheckingdesignation"
   ]
  },
  {
   "cell_type": "markdown",
   "metadata": {},
   "source": [
    "Step11: Group by Age and calaculate mean salary for each Age"
   ]
  },
  {
   "cell_type": "code",
   "execution_count": null,
   "metadata": {},
   "outputs": [
    {
     "data": {
      "text/plain": [
       "Age\n",
       "20.0    90000.0\n",
       "22.0    90000.0\n",
       "25.0    90000.0\n",
       "26.0    90000.0\n",
       "28.0    35000.0\n",
       "29.0    35000.0\n",
       "30.0    71250.0\n",
       "37.0    90000.0\n",
       "55.0    90000.0\n",
       "60.0    70000.0\n",
       "67.0     2000.0\n",
       "80.0    16000.0\n",
       "85.0    90000.0\n",
       "Name: Salary, dtype: float64"
      ]
     },
     "execution_count": 28,
     "metadata": {},
     "output_type": "execute_result"
    }
   ],
   "source": [
    "# group by age and calculate its mean salary\n",
    "salarybycheckingage=df.groupby('Age')['Salary'].mean()\n",
    "salarybycheckingage"
   ]
  },
  {
   "cell_type": "markdown",
   "metadata": {},
   "source": [
    "Step12: Group by Designation and calaculate mean Age for each Designation"
   ]
  },
  {
   "cell_type": "code",
   "execution_count": 29,
   "metadata": {},
   "outputs": [
    {
     "data": {
      "text/plain": [
       "Designation\n",
       "Analyst      29.500000\n",
       "Engineer     39.400000\n",
       "Professor    39.000000\n",
       "Scientist    24.000000\n",
       "Teacher      50.666667\n",
       "Trainer      55.000000\n",
       "Name: Age, dtype: float64"
      ]
     },
     "execution_count": 29,
     "metadata": {},
     "output_type": "execute_result"
    }
   ],
   "source": [
    "# group by Designation  and calculate mean age\n",
    "salarybycheckingdesignation=df.groupby('Designation')['Age'].mean()\n",
    "salarybycheckingdesignation\n"
   ]
  },
  {
   "cell_type": "markdown",
   "metadata": {},
   "source": [
    "Step13: Print higher salary"
   ]
  },
  {
   "cell_type": "code",
   "execution_count": 27,
   "metadata": {},
   "outputs": [
    {
     "name": "stdout",
     "output_type": "stream",
     "text": [
      "             Name Designation Gender   Age   Salary\n",
      "0         Mukhtar   Professor      M  37.0  90000.0\n",
      "3   Naveed Fatima     Analyst      F  30.0  70000.0\n",
      "4           Babar    Engineer      F  25.0  90000.0\n",
      "5            Aqsa   Scientist      F  22.0  90000.0\n",
      "7           Samra   Scientist      F  26.0  90000.0\n",
      "9        Abdullah     Teacher      M  55.0  90000.0\n",
      "10          Mosib   Professor      M  60.0  70000.0\n",
      "11          Ahmed    Engineer      M  30.0  90000.0\n",
      "12          Ahsan     Trainer      M  30.0  90000.0\n",
      "15         Qaisar   Professor      M  20.0  90000.0\n",
      "16          Wajid    Engineer      M  85.0  90000.0\n"
     ]
    }
   ],
   "source": [
    "#print salaries greater than 50000\n",
    "hs=df[df['Salary']>50000]\n",
    "print(hs)"
   ]
  },
  {
   "cell_type": "markdown",
   "metadata": {},
   "source": [
    "Step 14: Sort the dataframe by age"
   ]
  },
  {
   "cell_type": "code",
   "execution_count": 22,
   "metadata": {},
   "outputs": [
    {
     "name": "stdout",
     "output_type": "stream",
     "text": [
      "             Name Designation Gender   Age   Salary\n",
      "16          Wajid    Engineer      M  85.0  90000.0\n",
      "14          Naeem     Trainer      M  80.0  16000.0\n",
      "13          Wajid     Teacher      M  67.0   2000.0\n",
      "10          Mosib   Professor      M  60.0  70000.0\n",
      "9        Abdullah     Teacher      M  55.0  90000.0\n",
      "0         Mukhtar   Professor      M  37.0  90000.0\n",
      "1           Azziz     Teacher      M  30.0  35000.0\n",
      "11          Ahmed    Engineer      M  30.0  90000.0\n",
      "3   Naveed Fatima     Analyst      F  30.0  70000.0\n",
      "12          Ahsan     Trainer      M  30.0  90000.0\n",
      "2          Mohsin    Engineer      M  29.0  50000.0\n",
      "6           Rafia     Analyst      F  29.0  20000.0\n",
      "8            Eman    Engineer      F  28.0  35000.0\n",
      "7           Samra   Scientist      F  26.0  90000.0\n",
      "4           Babar    Engineer      F  25.0  90000.0\n",
      "5            Aqsa   Scientist      F  22.0  90000.0\n",
      "15         Qaisar   Professor      M  20.0  90000.0\n"
     ]
    }
   ],
   "source": [
    "#in Descending\n",
    "sf=df.sort_values(by='Age',ascending=False)\n",
    "print(sf)"
   ]
  },
  {
   "cell_type": "code",
   "execution_count": 23,
   "metadata": {},
   "outputs": [
    {
     "name": "stdout",
     "output_type": "stream",
     "text": [
      "             Name Designation Gender   Age   Salary\n",
      "15         Qaisar   Professor      M  20.0  90000.0\n",
      "5            Aqsa   Scientist      F  22.0  90000.0\n",
      "4           Babar    Engineer      F  25.0  90000.0\n",
      "7           Samra   Scientist      F  26.0  90000.0\n",
      "8            Eman    Engineer      F  28.0  35000.0\n",
      "2          Mohsin    Engineer      M  29.0  50000.0\n",
      "6           Rafia     Analyst      F  29.0  20000.0\n",
      "1           Azziz     Teacher      M  30.0  35000.0\n",
      "12          Ahsan     Trainer      M  30.0  90000.0\n",
      "3   Naveed Fatima     Analyst      F  30.0  70000.0\n",
      "11          Ahmed    Engineer      M  30.0  90000.0\n",
      "0         Mukhtar   Professor      M  37.0  90000.0\n",
      "9        Abdullah     Teacher      M  55.0  90000.0\n",
      "10          Mosib   Professor      M  60.0  70000.0\n",
      "13          Wajid     Teacher      M  67.0   2000.0\n",
      "14          Naeem     Trainer      M  80.0  16000.0\n",
      "16          Wajid    Engineer      M  85.0  90000.0\n"
     ]
    }
   ],
   "source": [
    "#in ascending\n",
    "sf=df.sort_values(by='Age',ascending=True)\n",
    "print(sf)"
   ]
  },
  {
   "cell_type": "markdown",
   "metadata": {},
   "source": [
    "Step15: Save the cleaned dataframe to  a new CSV File"
   ]
  },
  {
   "cell_type": "code",
   "execution_count": 26,
   "metadata": {},
   "outputs": [],
   "source": [
    "# save changes into a new file\n",
    "df.to_csv('Cleaned_data.csv',index=False)"
   ]
  },
  {
   "cell_type": "code",
   "execution_count": 25,
   "metadata": {},
   "outputs": [
    {
     "data": {
      "text/html": [
       "<div>\n",
       "<style scoped>\n",
       "    .dataframe tbody tr th:only-of-type {\n",
       "        vertical-align: middle;\n",
       "    }\n",
       "\n",
       "    .dataframe tbody tr th {\n",
       "        vertical-align: top;\n",
       "    }\n",
       "\n",
       "    .dataframe thead th {\n",
       "        text-align: right;\n",
       "    }\n",
       "</style>\n",
       "<table border=\"1\" class=\"dataframe\">\n",
       "  <thead>\n",
       "    <tr style=\"text-align: right;\">\n",
       "      <th></th>\n",
       "      <th>Name</th>\n",
       "      <th>Designation</th>\n",
       "      <th>Gender</th>\n",
       "      <th>Age</th>\n",
       "      <th>Salary</th>\n",
       "    </tr>\n",
       "  </thead>\n",
       "  <tbody>\n",
       "    <tr>\n",
       "      <th>0</th>\n",
       "      <td>Mukhtar</td>\n",
       "      <td>Professor</td>\n",
       "      <td>M</td>\n",
       "      <td>37.0</td>\n",
       "      <td>90000.0</td>\n",
       "    </tr>\n",
       "    <tr>\n",
       "      <th>1</th>\n",
       "      <td>Azziz</td>\n",
       "      <td>Teacher</td>\n",
       "      <td>M</td>\n",
       "      <td>30.0</td>\n",
       "      <td>35000.0</td>\n",
       "    </tr>\n",
       "    <tr>\n",
       "      <th>2</th>\n",
       "      <td>Mohsin</td>\n",
       "      <td>Engineer</td>\n",
       "      <td>M</td>\n",
       "      <td>29.0</td>\n",
       "      <td>50000.0</td>\n",
       "    </tr>\n",
       "    <tr>\n",
       "      <th>3</th>\n",
       "      <td>Naveed Fatima</td>\n",
       "      <td>Analyst</td>\n",
       "      <td>F</td>\n",
       "      <td>30.0</td>\n",
       "      <td>70000.0</td>\n",
       "    </tr>\n",
       "    <tr>\n",
       "      <th>4</th>\n",
       "      <td>Babar</td>\n",
       "      <td>Engineer</td>\n",
       "      <td>F</td>\n",
       "      <td>25.0</td>\n",
       "      <td>90000.0</td>\n",
       "    </tr>\n",
       "    <tr>\n",
       "      <th>5</th>\n",
       "      <td>Aqsa</td>\n",
       "      <td>Scientist</td>\n",
       "      <td>F</td>\n",
       "      <td>22.0</td>\n",
       "      <td>90000.0</td>\n",
       "    </tr>\n",
       "    <tr>\n",
       "      <th>6</th>\n",
       "      <td>Rafia</td>\n",
       "      <td>Analyst</td>\n",
       "      <td>F</td>\n",
       "      <td>29.0</td>\n",
       "      <td>20000.0</td>\n",
       "    </tr>\n",
       "    <tr>\n",
       "      <th>7</th>\n",
       "      <td>Samra</td>\n",
       "      <td>Scientist</td>\n",
       "      <td>F</td>\n",
       "      <td>26.0</td>\n",
       "      <td>90000.0</td>\n",
       "    </tr>\n",
       "    <tr>\n",
       "      <th>8</th>\n",
       "      <td>Eman</td>\n",
       "      <td>Engineer</td>\n",
       "      <td>F</td>\n",
       "      <td>28.0</td>\n",
       "      <td>35000.0</td>\n",
       "    </tr>\n",
       "    <tr>\n",
       "      <th>9</th>\n",
       "      <td>Abdullah</td>\n",
       "      <td>Teacher</td>\n",
       "      <td>M</td>\n",
       "      <td>55.0</td>\n",
       "      <td>90000.0</td>\n",
       "    </tr>\n",
       "    <tr>\n",
       "      <th>10</th>\n",
       "      <td>Mosib</td>\n",
       "      <td>Professor</td>\n",
       "      <td>M</td>\n",
       "      <td>60.0</td>\n",
       "      <td>70000.0</td>\n",
       "    </tr>\n",
       "    <tr>\n",
       "      <th>11</th>\n",
       "      <td>Ahmed</td>\n",
       "      <td>Engineer</td>\n",
       "      <td>M</td>\n",
       "      <td>30.0</td>\n",
       "      <td>90000.0</td>\n",
       "    </tr>\n",
       "    <tr>\n",
       "      <th>12</th>\n",
       "      <td>Ahsan</td>\n",
       "      <td>Trainer</td>\n",
       "      <td>M</td>\n",
       "      <td>30.0</td>\n",
       "      <td>90000.0</td>\n",
       "    </tr>\n",
       "    <tr>\n",
       "      <th>13</th>\n",
       "      <td>Wajid</td>\n",
       "      <td>Teacher</td>\n",
       "      <td>M</td>\n",
       "      <td>67.0</td>\n",
       "      <td>2000.0</td>\n",
       "    </tr>\n",
       "    <tr>\n",
       "      <th>14</th>\n",
       "      <td>Naeem</td>\n",
       "      <td>Trainer</td>\n",
       "      <td>M</td>\n",
       "      <td>80.0</td>\n",
       "      <td>16000.0</td>\n",
       "    </tr>\n",
       "    <tr>\n",
       "      <th>15</th>\n",
       "      <td>Qaisar</td>\n",
       "      <td>Professor</td>\n",
       "      <td>M</td>\n",
       "      <td>20.0</td>\n",
       "      <td>90000.0</td>\n",
       "    </tr>\n",
       "    <tr>\n",
       "      <th>16</th>\n",
       "      <td>Wajid</td>\n",
       "      <td>Engineer</td>\n",
       "      <td>M</td>\n",
       "      <td>85.0</td>\n",
       "      <td>90000.0</td>\n",
       "    </tr>\n",
       "  </tbody>\n",
       "</table>\n",
       "</div>"
      ],
      "text/plain": [
       "             Name Designation Gender   Age   Salary\n",
       "0         Mukhtar   Professor      M  37.0  90000.0\n",
       "1           Azziz     Teacher      M  30.0  35000.0\n",
       "2          Mohsin    Engineer      M  29.0  50000.0\n",
       "3   Naveed Fatima     Analyst      F  30.0  70000.0\n",
       "4           Babar    Engineer      F  25.0  90000.0\n",
       "5            Aqsa   Scientist      F  22.0  90000.0\n",
       "6           Rafia     Analyst      F  29.0  20000.0\n",
       "7           Samra   Scientist      F  26.0  90000.0\n",
       "8            Eman    Engineer      F  28.0  35000.0\n",
       "9        Abdullah     Teacher      M  55.0  90000.0\n",
       "10          Mosib   Professor      M  60.0  70000.0\n",
       "11          Ahmed    Engineer      M  30.0  90000.0\n",
       "12          Ahsan     Trainer      M  30.0  90000.0\n",
       "13          Wajid     Teacher      M  67.0   2000.0\n",
       "14          Naeem     Trainer      M  80.0  16000.0\n",
       "15         Qaisar   Professor      M  20.0  90000.0\n",
       "16          Wajid    Engineer      M  85.0  90000.0"
      ]
     },
     "execution_count": 25,
     "metadata": {},
     "output_type": "execute_result"
    }
   ],
   "source": [
    "df"
   ]
  },
  {
   "cell_type": "code",
   "execution_count": null,
   "metadata": {},
   "outputs": [],
   "source": []
  }
 ],
 "metadata": {
  "kernelspec": {
   "display_name": "Python 3",
   "language": "python",
   "name": "python3"
  },
  "language_info": {
   "codemirror_mode": {
    "name": "ipython",
    "version": 3
   },
   "file_extension": ".py",
   "mimetype": "text/x-python",
   "name": "python",
   "nbconvert_exporter": "python",
   "pygments_lexer": "ipython3",
   "version": "3.13.2"
  }
 },
 "nbformat": 4,
 "nbformat_minor": 2
}
