{
 "cells": [
  {
   "cell_type": "markdown",
   "id": "5d0712e9",
   "metadata": {},
   "source": [
    "<div class=one>\n",
    "\n",
    "Name: Fatima Momin  <br>\n",
    "Email: fatimamomina423@gmail.com  <br>\n",
    "GitHub: https://github.com/dashboard  <br>\n",
    "Title:  Assignment no 2 (Scenario Based Operations on Numpy) <br>\n",
    "\n",
    "</div>\n",
    "\n",
    "<style>\n",
    ".one {\n",
    "    color: orangered;\n",
    "    text-align:center;\n",
    "}\n",
    "</style>"
   ]
  },
  {
   "cell_type": "code",
   "execution_count": 35,
   "id": "e03c4738",
   "metadata": {},
   "outputs": [
    {
     "name": "stdout",
     "output_type": "stream",
     "text": [
      "Requirement already satisfied: pandas in c:\\users\\administrator\\appdata\\local\\programs\\python\\python313\\lib\\site-packages (2.2.3)\n",
      "Requirement already satisfied: numpy>=1.26.0 in c:\\users\\administrator\\appdata\\local\\programs\\python\\python313\\lib\\site-packages (from pandas) (2.2.3)\n",
      "Requirement already satisfied: python-dateutil>=2.8.2 in c:\\users\\administrator\\appdata\\local\\programs\\python\\python313\\lib\\site-packages (from pandas) (2.9.0.post0)\n",
      "Requirement already satisfied: pytz>=2020.1 in c:\\users\\administrator\\appdata\\local\\programs\\python\\python313\\lib\\site-packages (from pandas) (2025.1)\n",
      "Requirement already satisfied: tzdata>=2022.7 in c:\\users\\administrator\\appdata\\local\\programs\\python\\python313\\lib\\site-packages (from pandas) (2025.1)\n",
      "Requirement already satisfied: six>=1.5 in c:\\users\\administrator\\appdata\\local\\programs\\python\\python313\\lib\\site-packages (from python-dateutil>=2.8.2->pandas) (1.17.0)\n",
      "Note: you may need to restart the kernel to use updated packages.\n"
     ]
    },
    {
     "name": "stderr",
     "output_type": "stream",
     "text": [
      "\n",
      "[notice] A new release of pip is available: 24.3.1 -> 25.0.1\n",
      "[notice] To update, run: python.exe -m pip install --upgrade pip\n"
     ]
    },
    {
     "name": "stdout",
     "output_type": "stream",
     "text": [
      "Requirement already satisfied: numpy in c:\\users\\administrator\\appdata\\local\\programs\\python\\python313\\lib\\site-packages (2.2.3)\n",
      "Note: you may need to restart the kernel to use updated packages.\n"
     ]
    },
    {
     "name": "stderr",
     "output_type": "stream",
     "text": [
      "\n",
      "[notice] A new release of pip is available: 24.3.1 -> 25.0.1\n",
      "[notice] To update, run: python.exe -m pip install --upgrade pip\n"
     ]
    }
   ],
   "source": [
    "%pip install pandas \n",
    "%pip install numpy"
   ]
  },
  {
   "cell_type": "code",
   "execution_count": 1,
   "id": "fa26f7e5",
   "metadata": {},
   "outputs": [],
   "source": [
    "import pandas as pd\n",
    "import numpy as np"
   ]
  },
  {
   "cell_type": "markdown",
   "id": "259e37e2",
   "metadata": {},
   "source": [
    "<h1>Sales Data Analysis</h1>\n",
    "<style>\n",
    "h1{\n",
    " color: orange;   \n",
    "}    \n",
    "</style>"
   ]
  },
  {
   "cell_type": "code",
   "execution_count": 2,
   "id": "9bfa6429",
   "metadata": {},
   "outputs": [
    {
     "data": {
      "text/plain": [
       "array([105, 150, 200, 125, 200, 250, 180, 110, 160, 230, 210, 190, 140,\n",
       "       180, 200, 120, 170, 334, 190, 100, 150, 210, 180, 130,  50, 200,\n",
       "       110, 160, 230])"
      ]
     },
     "execution_count": 2,
     "metadata": {},
     "output_type": "execute_result"
    }
   ],
   "source": [
    "Daily_sales =np.array([105, 150, 200, 125, 200, 250, 180, 110, 160, 230, 210, 190, 140, 180, 200, 120, 170, 334, 190, 100, 150, 210, 180, 130, 50, 200, 110, 160, 230])\n",
    "Daily_sales"
   ]
  },
  {
   "cell_type": "code",
   "execution_count": 3,
   "id": "90ade748",
   "metadata": {},
   "outputs": [
    {
     "data": {
      "text/plain": [
       "np.int64(4964)"
      ]
     },
     "execution_count": 3,
     "metadata": {},
     "output_type": "execute_result"
    }
   ],
   "source": [
    "Total_sales=Daily_sales.sum()\n",
    "Total_sales"
   ]
  },
  {
   "cell_type": "code",
   "execution_count": 4,
   "id": "b7fbeb12",
   "metadata": {},
   "outputs": [
    {
     "data": {
      "text/plain": [
       "np.float64(171.17241379310346)"
      ]
     },
     "execution_count": 4,
     "metadata": {},
     "output_type": "execute_result"
    }
   ],
   "source": [
    "Average_sales=Daily_sales.mean()\n",
    "Average_sales"
   ]
  },
  {
   "cell_type": "code",
   "execution_count": 5,
   "id": "baba10c9",
   "metadata": {},
   "outputs": [
    {
     "data": {
      "text/plain": [
       "np.int64(18)"
      ]
     },
     "execution_count": 5,
     "metadata": {},
     "output_type": "execute_result"
    }
   ],
   "source": [
    "Highest_Day_sales=Daily_sales.argmax()+1\n",
    "Highest_Day_sales"
   ]
  },
  {
   "cell_type": "code",
   "execution_count": 6,
   "id": "966cc085",
   "metadata": {},
   "outputs": [
    {
     "data": {
      "text/plain": [
       "np.int64(334)"
      ]
     },
     "execution_count": 6,
     "metadata": {},
     "output_type": "execute_result"
    }
   ],
   "source": [
    "HeighestSale_Amount= Daily_sales.max()\n",
    "HeighestSale_Amount"
   ]
  },
  {
   "cell_type": "markdown",
   "id": "263642c4",
   "metadata": {},
   "source": [
    "<h1>Weather Data Processing</h1>\n",
    "<style>\n",
    "h1{\n",
    " color: orange;   \n",
    "}    \n",
    "</style>"
   ]
  },
  {
   "cell_type": "code",
   "execution_count": 7,
   "id": "d739e371",
   "metadata": {},
   "outputs": [
    {
     "data": {
      "text/plain": [
       "array([[31, 43, 33, 37, 32, 36, 30],\n",
       "       [39, 42, 34, 31, 36, 32, 38],\n",
       "       [33, 41, 30, 32, 35, 38, 36]])"
      ]
     },
     "execution_count": 7,
     "metadata": {},
     "output_type": "execute_result"
    }
   ],
   "source": [
    "Weekly_Temperatures = np.array([[31,43,33,37,32,36,30],\n",
    "                                [39,42,34,31,36,32,38],\n",
    "                                [33,41,30,32,35,38,36],\n",
    "                               ])\n",
    "Weekly_Temperatures "
   ]
  },
  {
   "cell_type": "code",
   "execution_count": 8,
   "id": "80365c14",
   "metadata": {},
   "outputs": [
    {
     "data": {
      "text/plain": [
       "array([34.33333333, 42.        , 32.33333333, 33.33333333, 34.33333333,\n",
       "       35.33333333, 34.66666667])"
      ]
     },
     "execution_count": 8,
     "metadata": {},
     "output_type": "execute_result"
    }
   ],
   "source": [
    "Veg_temp_Day=Weekly_Temperatures.mean(axis=0)\n",
    "Veg_temp_Day"
   ]
  },
  {
   "cell_type": "code",
   "execution_count": 9,
   "id": "4eafdcc0",
   "metadata": {},
   "outputs": [
    {
     "name": "stdout",
     "output_type": "stream",
     "text": [
      "Day 1: 34.33 degrees Celsius\n",
      "Day 2: 42.00 degrees Celsius\n",
      "Day 3: 32.33 degrees Celsius\n",
      "Day 4: 33.33 degrees Celsius\n",
      "Day 5: 34.33 degrees Celsius\n",
      "Day 6: 35.33 degrees Celsius\n",
      "Day 7: 34.67 degrees Celsius\n"
     ]
    }
   ],
   "source": [
    "for day in range(7):\n",
    "    print(f\"Day {day+1}: {Veg_temp_Day[day]:.2f} degrees Celsius\")"
   ]
  },
  {
   "cell_type": "markdown",
   "id": "1eeab350",
   "metadata": {},
   "source": [
    "<h1>Financial Analysis</h1>\n",
    "<style>\n",
    "h1{\n",
    " color: orange;   \n",
    "}    \n",
    "</style>"
   ]
  },
  {
   "cell_type": "code",
   "execution_count": 10,
   "id": "3e357431",
   "metadata": {},
   "outputs": [
    {
     "data": {
      "text/plain": [
       "array([109, 115, 104, 135, 136, 137, 138, 140, 142, 144, 145, 147, 148,\n",
       "       149, 150, 151])"
      ]
     },
     "execution_count": 10,
     "metadata": {},
     "output_type": "execute_result"
    }
   ],
   "source": [
    "Prices = np.array([109, 115, 104, 135, 136, 137, 138, 140, 142, 144, 145, 147, 148,149, 150, 151])\n",
    "Prices"
   ]
  },
  {
   "cell_type": "code",
   "execution_count": 12,
   "id": "697804f4",
   "metadata": {},
   "outputs": [
    {
     "data": {
      "text/plain": [
       "np.float64(38.53211009174312)"
      ]
     },
     "execution_count": 12,
     "metadata": {},
     "output_type": "execute_result"
    }
   ],
   "source": [
    "Monthly_return = (Prices[-1]-Prices[0])/Prices[0]*100\n",
    "Monthly_return "
   ]
  },
  {
   "cell_type": "markdown",
   "id": "a8bcf83a",
   "metadata": {},
   "source": [
    "<h1>Student Grades Analysis</h1>\n",
    "<style>\n",
    "h1{\n",
    " color: orange;   \n",
    "}    \n",
    "</style>"
   ]
  },
  {
   "cell_type": "code",
   "execution_count": 13,
   "id": "1b017e8c",
   "metadata": {},
   "outputs": [
    {
     "data": {
      "text/plain": [
       "array([[70, 95, 88],\n",
       "       [75, 60, 80],\n",
       "       [80, 89, 92],\n",
       "       [81, 77, 65]])"
      ]
     },
     "execution_count": 13,
     "metadata": {},
     "output_type": "execute_result"
    }
   ],
   "source": [
    "Grades_std = np.array([[70, 95, 88],[75, 60, 80],[80, 89, 92],[81, 77, 65]])\n",
    "Grades_std"
   ]
  },
  {
   "cell_type": "code",
   "execution_count": 14,
   "id": "c7b676d5",
   "metadata": {},
   "outputs": [
    {
     "data": {
      "text/plain": [
       "array([84.33333333, 71.66666667, 87.        , 74.33333333])"
      ]
     },
     "execution_count": 14,
     "metadata": {},
     "output_type": "execute_result"
    }
   ],
   "source": [
    "Avg_grade_pr_std = np.mean(Grades_std, axis=1)\n",
    "Avg_grade_pr_std"
   ]
  },
  {
   "cell_type": "code",
   "execution_count": 15,
   "id": "1382790e",
   "metadata": {},
   "outputs": [
    {
     "data": {
      "text/plain": [
       "array([76.5 , 80.25, 81.25])"
      ]
     },
     "execution_count": 15,
     "metadata": {},
     "output_type": "execute_result"
    }
   ],
   "source": [
    "Class_avg_per_subj = np.mean(Grades_std, axis=0)\n",
    "Class_avg_per_subj"
   ]
  },
  {
   "cell_type": "markdown",
   "id": "4480dcef",
   "metadata": {},
   "source": [
    "<h1>Image Processing</h1>\n",
    "<style>\n",
    "h1{\n",
    " color: orange;   \n",
    "}    \n",
    "</style>"
   ]
  },
  {
   "cell_type": "code",
   "execution_count": 16,
   "id": "d6f6d6f0",
   "metadata": {},
   "outputs": [
    {
     "data": {
      "text/plain": [
       "array([[  0, 130, 255],\n",
       "       [ 50, 167, 138],\n",
       "       [255, 190,   0]])"
      ]
     },
     "execution_count": 16,
     "metadata": {},
     "output_type": "execute_result"
    }
   ],
   "source": [
    "img = np.array([[0, 130, 255],[50, 167, 138],[255, 190, 0]])\n",
    "img"
   ]
  },
  {
   "cell_type": "code",
   "execution_count": 17,
   "id": "6a7d593d",
   "metadata": {},
   "outputs": [
    {
     "data": {
      "text/plain": [
       "array([[0.        , 0.50980392, 1.        ],\n",
       "       [0.19607843, 0.65490196, 0.54117647],\n",
       "       [1.        , 0.74509804, 0.        ]])"
      ]
     },
     "execution_count": 17,
     "metadata": {},
     "output_type": "execute_result"
    }
   ],
   "source": [
    "#Img range 0 to 1\n",
    "normalized_img = img / 255.0\n",
    "normalized_img"
   ]
  },
  {
   "cell_type": "markdown",
   "id": "e1217b27",
   "metadata": {},
   "source": [
    "<h1>Population Growth Analysis</h1>\n",
    "<style>\n",
    "h1{\n",
    " color: orange;   \n",
    "}    \n",
    "</style>"
   ]
  },
  {
   "cell_type": "code",
   "execution_count": 18,
   "id": "bea37761",
   "metadata": {},
   "outputs": [
    {
     "data": {
      "text/plain": [
       "array([1700, 1650, 1800, 2300, 1200, 1050, 1300, 1100, 1600, 1500])"
      ]
     },
     "execution_count": 18,
     "metadata": {},
     "output_type": "execute_result"
    }
   ],
   "source": [
    "Population_Data = np.array([1700, 1650, 1800, 2300, 1200, 1050, 1300, 1100, 1600, 1500])\n",
    "\n",
    "Population_Data"
   ]
  },
  {
   "cell_type": "code",
   "execution_count": 19,
   "id": "4e9df23f",
   "metadata": {},
   "outputs": [],
   "source": [
    "annual_growth_rate = np.diff(Population_Data) / Population_Data[:-1] * 100\n",
    "highest_growth_year = np.argmax(annual_growth_rate) + 1  "
   ]
  },
  {
   "cell_type": "code",
   "execution_count": 20,
   "id": "7122163c",
   "metadata": {
    "scrolled": true
   },
   "outputs": [
    {
     "data": {
      "text/plain": [
       "array([ -2.94117647,   9.09090909,  27.77777778, -47.82608696,\n",
       "       -12.5       ,  23.80952381, -15.38461538,  45.45454545,\n",
       "        -6.25      ])"
      ]
     },
     "execution_count": 20,
     "metadata": {},
     "output_type": "execute_result"
    }
   ],
   "source": [
    "annual_growth_rate\n"
   ]
  },
  {
   "cell_type": "code",
   "execution_count": 21,
   "id": "781b3b83",
   "metadata": {},
   "outputs": [
    {
     "data": {
      "text/plain": [
       "np.int64(8)"
      ]
     },
     "execution_count": 21,
     "metadata": {},
     "output_type": "execute_result"
    }
   ],
   "source": [
    "highest_growth_year"
   ]
  },
  {
   "cell_type": "markdown",
   "id": "fc5df835",
   "metadata": {},
   "source": [
    "<h1>Traffic Data Analysis</h1>\n",
    "<style>\n",
    "h1{\n",
    " color: orange;   \n",
    "}    \n",
    "</style>"
   ]
  },
  {
   "cell_type": "code",
   "execution_count": 22,
   "id": "37541ef0",
   "metadata": {},
   "outputs": [
    {
     "data": {
      "text/plain": [
       "array([[141, 110, 155, 168, 155,  93,  46, 169,  57,  64,  55, 108, 131,\n",
       "         46,  22, 136,  26, 135, 129,  81, 156,  67,  41, 152],\n",
       "       [163,  53,  56,  32,  46,  47, 108,  67, 168,  56,  84,  43, 164,\n",
       "        150,  64,  36,  86, 153,  46,  45, 137, 137, 155, 169],\n",
       "       [125,  72,  83,  52, 162, 130, 141, 143, 112, 136, 113,  24,  81,\n",
       "         29, 159,  38,  78, 133,  54,  38,  58, 120, 111,  85],\n",
       "       [154, 113, 159,  95,  82, 144, 162,  81, 127,  94, 137,  93,  73,\n",
       "        116,  88,  39,  88, 122,  33,  95,  25,  75,  44, 132],\n",
       "       [169, 143, 144, 114, 118,  20,  78, 141, 149,  53, 162,  63, 160,\n",
       "         65, 162,  46,  58,  69, 120,  69,  49,  66, 117, 150],\n",
       "       [160,  24,  43,  68, 135, 155,  88, 138, 167,  74, 104, 165, 146,\n",
       "         34,  79,  28,  90,  76,  40, 113,  44, 143,  56,  42],\n",
       "       [127,  84, 109, 117,  83,  30,  30, 107,  52,  44,  52, 113, 164,\n",
       "         89,  80,  66,  97, 161,  76,  86, 164, 154, 139,  68]],\n",
       "      dtype=int32)"
      ]
     },
     "execution_count": 22,
     "metadata": {},
     "output_type": "execute_result"
    }
   ],
   "source": [
    "#Data: 7 days, 24 hrs\n",
    "Trafic = np.random.randint(20, 170, size=(7, 24))\n",
    "Trafic "
   ]
  },
  {
   "cell_type": "code",
   "execution_count": 23,
   "id": "1ff4da48",
   "metadata": {},
   "outputs": [],
   "source": [
    "total_trafic_per_day = np.sum(Trafic, axis=1)\n",
    "Busy_hour_in_wk = np.argmax(np.sum(Trafic, axis=0))"
   ]
  },
  {
   "cell_type": "code",
   "execution_count": 24,
   "id": "f0336735",
   "metadata": {},
   "outputs": [
    {
     "data": {
      "text/plain": [
       "array([2443, 2265, 2277, 2371, 2485, 2212, 2292])"
      ]
     },
     "execution_count": 24,
     "metadata": {},
     "output_type": "execute_result"
    }
   ],
   "source": [
    "total_trafic_per_day "
   ]
  },
  {
   "cell_type": "code",
   "execution_count": 25,
   "id": "041f20c1",
   "metadata": {},
   "outputs": [
    {
     "data": {
      "text/plain": [
       "np.int64(0)"
      ]
     },
     "execution_count": 25,
     "metadata": {},
     "output_type": "execute_result"
    }
   ],
   "source": [
    "Busy_hour_in_wk"
   ]
  },
  {
   "cell_type": "markdown",
   "id": "112211f5",
   "metadata": {},
   "source": [
    "<h1>Product Inventory Management</h1>\n",
    "<style>\n",
    "h1{\n",
    " color: orange;   \n",
    "}    \n",
    "</style>"
   ]
  },
  {
   "cell_type": "code",
   "execution_count": 26,
   "id": "91e9ccaf",
   "metadata": {},
   "outputs": [],
   "source": [
    "Stock_levels = np.array([55, 65, 75, 35, 50, 25])\n"
   ]
  },
  {
   "cell_type": "code",
   "execution_count": 27,
   "id": "110c9f4f",
   "metadata": {},
   "outputs": [
    {
     "data": {
      "text/plain": [
       "array([3, 5])"
      ]
     },
     "execution_count": 27,
     "metadata": {},
     "output_type": "execute_result"
    }
   ],
   "source": [
    "#threshold 50 units\n",
    "reorder_list = np.where(Stock_levels < 50)[0]\n",
    "\n",
    "reorder_list"
   ]
  },
  {
   "cell_type": "markdown",
   "id": "17ba380c",
   "metadata": {},
   "source": [
    "<h1>Game Score Analysis</h1>\n",
    "<style>\n",
    "h1{\n",
    " color: orange;   \n",
    "}    \n",
    "</style>"
   ]
  },
  {
   "cell_type": "code",
   "execution_count": 28,
   "id": "56b567c7",
   "metadata": {},
   "outputs": [],
   "source": [
    "#Data of 5 players and 10 rounds\n",
    "Score = np.random.randint(80, 320, size=(5, 20))"
   ]
  },
  {
   "cell_type": "code",
   "execution_count": 29,
   "id": "3f9ed16c",
   "metadata": {},
   "outputs": [],
   "source": [
    "# Player with highest ave score\n",
    "highest_avg_scoreplayer = np.argmax(np.mean(Score, axis=1))\n",
    "\n",
    "# Round with highest T score\n",
    "highest_total_scorer_ound = np.argmax(np.sum(Score, axis=0))"
   ]
  },
  {
   "cell_type": "code",
   "execution_count": 30,
   "id": "e6dd47a3",
   "metadata": {},
   "outputs": [
    {
     "data": {
      "text/plain": [
       "np.int64(0)"
      ]
     },
     "execution_count": 30,
     "metadata": {},
     "output_type": "execute_result"
    }
   ],
   "source": [
    "highest_avg_scoreplayer"
   ]
  },
  {
   "cell_type": "code",
   "execution_count": 31,
   "id": "3871a9c3",
   "metadata": {},
   "outputs": [
    {
     "data": {
      "text/plain": [
       "np.int64(11)"
      ]
     },
     "execution_count": 31,
     "metadata": {},
     "output_type": "execute_result"
    }
   ],
   "source": [
    "highest_total_scorer_ound"
   ]
  },
  {
   "cell_type": "markdown",
   "id": "c04f0a53",
   "metadata": {},
   "source": [
    "<h1>Financial Portfolio Analysis</h1>\n",
    "<style>\n",
    "h1{\n",
    " color: orange;   \n",
    "}    \n",
    "</style>"
   ]
  },
  {
   "cell_type": "code",
   "execution_count": 32,
   "id": "70592c10",
   "metadata": {},
   "outputs": [
    {
     "data": {
      "text/plain": [
       "array([-0.21711966,  0.23003659,  0.19974608,  0.35961285, -0.21556855,\n",
       "        1.1851394 ,  0.35817522,  0.36419697,  0.44440265, -0.60717772,\n",
       "       -0.08487064, -0.20413967, -0.21959965,  0.63725634, -0.27998147,\n",
       "       -0.50967159, -0.08602035, -0.04921926,  0.25592465, -0.28236819,\n",
       "       -0.22123653, -0.67852711,  0.01129805, -0.08021957,  0.05991604,\n",
       "       -0.11341493,  0.50238652, -0.18757781, -0.02100366,  0.06511792,\n",
       "       -0.017768  , -0.08591016, -0.28220924, -0.47808633,  0.01266703,\n",
       "        0.0821962 , -0.78728157,  0.26709385, -0.00207845,  0.57531266])"
      ]
     },
     "execution_count": 32,
     "metadata": {},
     "output_type": "execute_result"
    }
   ],
   "source": [
    "# 4 assets, 30 days)\n",
    "Return = np.random.randn(6, 40)\n",
    "\n",
    "Overall_daily_return = np.mean(Return, axis=0)\n",
    "\n",
    "# Asset with highest volatility\n",
    "Highest_volatility_asset = np.argmax(np.std(Return, axis=1))\n",
    "\n",
    "Overall_daily_return"
   ]
  },
  {
   "cell_type": "code",
   "execution_count": 33,
   "id": "8b172db4",
   "metadata": {},
   "outputs": [
    {
     "data": {
      "text/plain": [
       "np.int64(5)"
      ]
     },
     "execution_count": 33,
     "metadata": {},
     "output_type": "execute_result"
    }
   ],
   "source": [
    "Highest_volatility_asset"
   ]
  }
 ],
 "metadata": {
  "kernelspec": {
   "display_name": "Python 3",
   "language": "python",
   "name": "python3"
  },
  "language_info": {
   "codemirror_mode": {
    "name": "ipython",
    "version": 3
   },
   "file_extension": ".py",
   "mimetype": "text/x-python",
   "name": "python",
   "nbconvert_exporter": "python",
   "pygments_lexer": "ipython3",
   "version": "3.13.2"
  }
 },
 "nbformat": 4,
 "nbformat_minor": 5
}
