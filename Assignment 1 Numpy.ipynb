{
 "cells": [
  {
   "cell_type": "markdown",
   "metadata": {},
   "source": [
    "<div class=one>\n",
    "\n",
    "Name: Fatima Momin  <br>\n",
    "Email: fatimamomina423@gmail.com  <br>\n",
    "GitHub: https://github.com/dashboard  <br>\n",
    "Title:  Assignment no 1 (Basic array operations) <br>\n",
    "\n",
    "</div>\n",
    "\n",
    "<style>\n",
    ".one {\n",
    "    color: yellow;\n",
    "    text-align:center;\n",
    "}\n",
    "</style>"
   ]
  },
  {
   "cell_type": "code",
   "execution_count": 14,
   "metadata": {},
   "outputs": [
    {
     "name": "stdout",
     "output_type": "stream",
     "text": [
      "Requirement already satisfied: pandas in c:\\users\\administrator\\appdata\\local\\programs\\python\\python313\\lib\\site-packages (2.2.3)\n",
      "Requirement already satisfied: numpy>=1.26.0 in c:\\users\\administrator\\appdata\\local\\programs\\python\\python313\\lib\\site-packages (from pandas) (2.2.3)\n",
      "Requirement already satisfied: python-dateutil>=2.8.2 in c:\\users\\administrator\\appdata\\local\\programs\\python\\python313\\lib\\site-packages (from pandas) (2.9.0.post0)\n",
      "Requirement already satisfied: pytz>=2020.1 in c:\\users\\administrator\\appdata\\local\\programs\\python\\python313\\lib\\site-packages (from pandas) (2025.1)\n",
      "Requirement already satisfied: tzdata>=2022.7 in c:\\users\\administrator\\appdata\\local\\programs\\python\\python313\\lib\\site-packages (from pandas) (2025.1)\n",
      "Requirement already satisfied: six>=1.5 in c:\\users\\administrator\\appdata\\local\\programs\\python\\python313\\lib\\site-packages (from python-dateutil>=2.8.2->pandas) (1.17.0)\n",
      "Note: you may need to restart the kernel to use updated packages.\n"
     ]
    },
    {
     "name": "stderr",
     "output_type": "stream",
     "text": [
      "\n",
      "[notice] A new release of pip is available: 24.3.1 -> 25.0.1\n",
      "[notice] To update, run: python.exe -m pip install --upgrade pip\n"
     ]
    }
   ],
   "source": [
    "%pip install pandas"
   ]
  },
  {
   "cell_type": "code",
   "execution_count": 1,
   "metadata": {},
   "outputs": [
    {
     "name": "stdout",
     "output_type": "stream",
     "text": [
      "Requirement already satisfied: numpy in c:\\users\\administrator\\appdata\\local\\programs\\python\\python313\\lib\\site-packages (2.2.3)\n",
      "Note: you may need to restart the kernel to use updated packages.\n"
     ]
    },
    {
     "name": "stderr",
     "output_type": "stream",
     "text": [
      "\n",
      "[notice] A new release of pip is available: 24.3.1 -> 25.0.1\n",
      "[notice] To update, run: python.exe -m pip install --upgrade pip\n"
     ]
    }
   ],
   "source": [
    "%pip install numpy"
   ]
  },
  {
   "cell_type": "code",
   "execution_count": 2,
   "metadata": {},
   "outputs": [],
   "source": [
    "import pandas as pd\n",
    "import numpy as np"
   ]
  },
  {
   "cell_type": "markdown",
   "metadata": {},
   "source": [
    "<h1>Basic Array Operations</h1>\n",
    "<style>\n",
    "h1{\n",
    " color: green;   \n",
    "}    \n",
    "</style>"
   ]
  },
  {
   "cell_type": "markdown",
   "metadata": {},
   "source": [
    "#### Arrays of 1D, 2D & 3D"
   ]
  },
  {
   "cell_type": "code",
   "execution_count": 3,
   "metadata": {},
   "outputs": [
    {
     "name": "stdout",
     "output_type": "stream",
     "text": [
      "1D Array:\n",
      " [1 2 3 4 5]\n",
      "2D Array:\n",
      " [[1 2 3]\n",
      " [4 5 6]]\n",
      "3D Array:\n",
      " [[[1 2]\n",
      "  [3 4]]\n",
      "\n",
      " [[5 6]\n",
      "  [7 8]]]\n"
     ]
    }
   ],
   "source": [
    "# 1D Array\n",
    "array1 = np.array([1, 2, 3, 4, 5])  \n",
    "\n",
    "# 2D Array  \n",
    "array2 = np.array([[1, 2, 3], [4, 5, 6]])  \n",
    "\n",
    "# 3D Array  \n",
    "array3 = np.array([[[1, 2], [3, 4]], [[5, 6], [7, 8]]])   \n",
    "\n",
    "print(\"1D Array:\\n\", array1)  \n",
    "print(\"2D Array:\\n\", array2)  \n",
    "print(\"3D Array:\\n\", array3)\n"
   ]
  },
  {
   "cell_type": "markdown",
   "metadata": {},
   "source": [
    "#### Slicing on each array"
   ]
  },
  {
   "cell_type": "code",
   "execution_count": 4,
   "metadata": {},
   "outputs": [
    {
     "name": "stdout",
     "output_type": "stream",
     "text": [
      "Sliced 1D: [1 2]\n",
      "Sliced 2D (first row):\n",
      " [4 5 6]\n",
      "Sliced 3D (first matrix):\n",
      " [[1 2]\n",
      " [3 4]]\n"
     ]
    }
   ],
   "source": [
    "# Slicing 1D array (first 2 elements)\n",
    "print(\"Sliced 1D:\", array1[:2])  \n",
    "\n",
    "# Slicing 2D array (second row)\n",
    "print(\"Sliced 2D (first row):\\n\", array2[1, :])  \n",
    "\n",
    "# Slicing 3D array (extracting first matrix)\n",
    "print(\"Sliced 3D (first matrix):\\n\", array3[0, :, :])  \n"
   ]
  },
  {
   "cell_type": "markdown",
   "metadata": {},
   "source": [
    "#### Airthematic Operations"
   ]
  },
  {
   "cell_type": "code",
   "execution_count": 22,
   "metadata": {},
   "outputs": [
    {
     "name": "stdout",
     "output_type": "stream",
     "text": [
      "Addition:\n",
      " [3 4 5 6 7]\n",
      "Subtraction:\n",
      " [0 1 2 3 4]\n",
      "Multiplication:\n",
      " [ 3  6  9 12 15]\n",
      "Division:\n",
      " [0.5 1.  1.5 2.  2.5]\n"
     ]
    }
   ],
   "source": [
    "# On 1D array\n",
    "# Adding 2 to each element\n",
    "print(\"Addition:\\n\", array1 + 2)  \n",
    "\n",
    "# Subtracting 1 from each element\n",
    "print(\"Subtraction:\\n\", array1 - 1)  \n",
    "\n",
    "# Multiplication by 3\n",
    "print(\"Multiplication:\\n\", array1 * 3)  \n",
    "\n",
    "# Division by 2\n",
    "print(\"Division:\\n\", array1 / 2)  \n"
   ]
  },
  {
   "cell_type": "code",
   "execution_count": 23,
   "metadata": {},
   "outputs": [
    {
     "name": "stdout",
     "output_type": "stream",
     "text": [
      "Addition:\n",
      " [[2 3 4]\n",
      " [5 6 7]]\n",
      "Subtraction:\n",
      " [[-1  0  1]\n",
      " [ 2  3  4]]\n",
      "Multiplication:\n",
      " [[ 5 10 15]\n",
      " [20 25 30]]\n",
      "Division:\n",
      " [[0.25 0.5  0.75]\n",
      " [1.   1.25 1.5 ]]\n"
     ]
    }
   ],
   "source": [
    "#on 2D array\n",
    "print(\"Addition:\\n\", array2 + 1) \n",
    "print(\"Subtraction:\\n\", array2 - 2) \n",
    "print(\"Multiplication:\\n\", array2 * 5) \n",
    "print(\"Division:\\n\", array2 /4)  "
   ]
  },
  {
   "cell_type": "code",
   "execution_count": 24,
   "metadata": {},
   "outputs": [
    {
     "name": "stdout",
     "output_type": "stream",
     "text": [
      "Addition:\n",
      " [[[ 4  5]\n",
      "  [ 6  7]]\n",
      "\n",
      " [[ 8  9]\n",
      "  [10 11]]]\n",
      "Subtraction:\n",
      " [[[-1  0]\n",
      "  [ 1  2]]\n",
      "\n",
      " [[ 3  4]\n",
      "  [ 5  6]]]\n",
      "Multiplication:\n",
      " [[[10 20]\n",
      "  [30 40]]\n",
      "\n",
      " [[50 60]\n",
      "  [70 80]]]\n",
      "Division:\n",
      " [[[0.5 1. ]\n",
      "  [1.5 2. ]]\n",
      "\n",
      " [[2.5 3. ]\n",
      "  [3.5 4. ]]]\n"
     ]
    }
   ],
   "source": [
    "#on 3D array\n",
    "print(\"Addition:\\n\", array3 + 3)  \n",
    "print(\"Subtraction:\\n\", array3 - 2)  \n",
    "print(\"Multiplication:\\n\", array3 * 10)  \n",
    "print(\"Division:\\n\", array3 / 2)  "
   ]
  },
  {
   "cell_type": "markdown",
   "metadata": {},
   "source": [
    "<h1>Array Creation and Manipulation</h1>\n",
    "<style>\n",
    "h1{\n",
    " color: green;   \n",
    "}    \n",
    "</style>"
   ]
  },
  {
   "cell_type": "code",
   "execution_count": null,
   "metadata": {},
   "outputs": [
    {
     "name": "stdout",
     "output_type": "stream",
     "text": [
      "Arange:\n",
      " [1 3 5 7 9]\n",
      "Linspace:\n",
      " [ 1.    3.25  5.5   7.75 10.  ]\n",
      "Zeros:\n",
      " [[0. 0. 0.]\n",
      " [0. 0. 0.]]\n",
      "Ones:\n",
      " [[1. 1.]\n",
      " [1. 1.]\n",
      " [1. 1.]]\n",
      "Identity Matrix:\n",
      " [[1. 0. 0.]\n",
      " [0. 1. 0.]\n",
      " [0. 0. 1.]]\n",
      "Random:\n",
      " [[0.43979074 0.75845237 0.14099463]\n",
      " [0.20692239 0.10447654 0.66031697]]\n"
     ]
    }
   ],
   "source": [
    "# Using arange\n",
    "arr_arange = np.arange(1, 10, 2) # start stop stepwise\n",
    "\n",
    "# Using linspace \n",
    "arr_linspace = np.linspace(1, 10, 5)  # start stop interval\n",
    "\n",
    "# Using zeros \n",
    "arr_zeros = np.zeros((2, 3))  # 2 rows, 3 columns filled with 0\n",
    "\n",
    "# Using ones \n",
    "arr_ones = np.ones((3, 2))  # 3 rows, 2 columns filled with 1\n",
    "\n",
    "# Using eye \n",
    "arr_eye = np.eye(3)  # 3x3 identity matrix\n",
    "\n",
    "# Using random\n",
    "arr_random = np.random.rand(2, 3)  # 2x3 array with random values\n",
    "\n",
    "print(\"Arange:\\n\", arr_arange)\n",
    "print(\"Linspace:\\n\", arr_linspace)\n",
    "print(\"Zeros:\\n\", arr_zeros)\n",
    "print(\"Ones:\\n\", arr_ones)\n",
    "print(\"Identity Matrix:\\n\", arr_eye)\n",
    "print(\"Random:\\n\", arr_random)"
   ]
  },
  {
   "cell_type": "markdown",
   "metadata": {},
   "source": [
    "#### Reshaping Array"
   ]
  },
  {
   "cell_type": "code",
   "execution_count": 9,
   "metadata": {},
   "outputs": [
    {
     "name": "stdout",
     "output_type": "stream",
     "text": [
      "Original Array:\n",
      " [1 2 3 4 5 6 7 8 9]\n",
      "Reshaped (3x3):\n",
      " [[1 2 3]\n",
      " [4 5 6]\n",
      " [7 8 9]]\n"
     ]
    }
   ],
   "source": [
    "arr = np.arange(1, 10)  # 1D array with values from 1 to 9\n",
    "arr_reshaped = arr.reshape(3, 3)  # Reshaping to 3x3 matrix\n",
    "\n",
    "print(\"Original Array:\\n\", arr)\n",
    "print(\"Reshaped (3x3):\\n\", arr_reshaped)\n"
   ]
  },
  {
   "cell_type": "code",
   "execution_count": null,
   "metadata": {},
   "outputs": [
    {
     "name": "stdout",
     "output_type": "stream",
     "text": [
      "[1 2 3 4 5 6]\n",
      "Vertical Concatenation:\n",
      " [[1 2]\n",
      " [3 4]\n",
      " [5 6]\n",
      " [7 8]]\n",
      "Horizontal Concatenation:\n",
      " [[1 2 5 6]\n",
      " [3 4 7 8]]\n",
      "Split Arrays:\n",
      " [array([[1, 2],\n",
      "       [3, 4]]), array([[5, 6],\n",
      "       [7, 8]])]\n"
     ]
    }
   ],
   "source": [
    "arr1 = np.array([1, 2, 3])\n",
    "arr2 = np.array([4, 5, 6])\n",
    "\n",
    "# concatenate arrays\n",
    "arr = np.concatenate((arr1, arr2))\n",
    "print(arr)\n",
    "\n",
    "# with 2D array\n",
    "arr1 = np.array([[1, 2], [3, 4]])\n",
    "arr2 = np.array([[5, 6], [7, 8]])\n",
    "\n",
    "# Concatenation (Vertical and Horizontal)\n",
    "arr_concat_v = np.vstack((arr1, arr2))  # Vertical stacking\n",
    "arr_concat_h = np.hstack((arr1, arr2))  # Horizontal stacking\n",
    "\n",
    "# Splitting an Array\n",
    "arr_split = np.split(arr_concat_v, 2)  # Splitting into 2 equal parts\n",
    "\n",
    "print(\"Vertical Concatenation:\\n\", arr_concat_v)\n",
    "print(\"Horizontal Concatenation:\\n\", arr_concat_h)\n",
    "print(\"Split Arrays:\\n\", arr_split)\n"
   ]
  },
  {
   "cell_type": "markdown",
   "metadata": {},
   "source": [
    "<h1>Statical Operations</h1>\n",
    "<style>\n",
    "h1{\n",
    " color: green;   \n",
    "}    \n",
    "</style>"
   ]
  },
  {
   "cell_type": "code",
   "execution_count": 26,
   "metadata": {},
   "outputs": [
    {
     "name": "stdout",
     "output_type": "stream",
     "text": [
      "Mean: 3.5\n",
      "Median: 3.5\n",
      "Standard Deviation: 1.707825127659933\n",
      "Min: 1 Max: 6\n",
      "Sum: 21 Product: 720\n"
     ]
    }
   ],
   "source": [
    "arr_stat = np.array([[1, 2, 3], [4, 5, 6]])\n",
    "\n",
    "# Mean, Median, Standard Deviation\n",
    "mean_val = np.mean(arr_stat)\n",
    "median_val = np.median(arr_stat)\n",
    "std_dev = np.std(arr_stat)\n",
    "\n",
    "# Min and Max\n",
    "min_val = np.min(arr_stat)\n",
    "max_val = np.max(arr_stat)\n",
    "\n",
    "# Sum and Product\n",
    "sum_val = np.sum(arr_stat)\n",
    "prod_val = np.prod(arr_stat)\n",
    "\n",
    "print(\"Mean:\", mean_val)\n",
    "print(\"Median:\", median_val)\n",
    "print(\"Standard Deviation:\", std_dev)\n",
    "print(\"Min:\", min_val, \"Max:\", max_val)\n",
    "print(\"Sum:\", sum_val, \"Product:\", prod_val)\n"
   ]
  },
  {
   "cell_type": "markdown",
   "metadata": {},
   "source": [
    "<h1>BroadCasting</h1>\n",
    "<style>\n",
    "h1{\n",
    " color: green;   \n",
    "}    \n",
    "</style>"
   ]
  },
  {
   "cell_type": "code",
   "execution_count": 27,
   "metadata": {},
   "outputs": [
    {
     "name": "stdout",
     "output_type": "stream",
     "text": [
      "Original Array:\n",
      " [[1 2 3]\n",
      " [4 5 6]]\n",
      "After Broadcasting (Multiplication by 2):\n",
      " [[ 2  4  6]\n",
      " [ 8 10 12]]\n"
     ]
    }
   ],
   "source": [
    "arr1 = np.array([[1, 2, 3], [4, 5, 6]])\n",
    "scalar = 2\n",
    "\n",
    "# Broadcasting: Multiplying every element of arr1 by scalar\n",
    "result = arr1 * scalar\n",
    "\n",
    "print(\"Original Array:\\n\", arr1)\n",
    "print(\"After Broadcasting (Multiplication by 2):\\n\", result)"
   ]
  },
  {
   "cell_type": "markdown",
   "metadata": {},
   "source": [
    "#### Broadcasting with different shapes of arrays"
   ]
  },
  {
   "cell_type": "code",
   "execution_count": 13,
   "metadata": {},
   "outputs": [
    {
     "name": "stdout",
     "output_type": "stream",
     "text": [
      "After Broadcasting Addition:\n",
      " [[2 3 4]\n",
      " [3 4 5]]\n"
     ]
    }
   ],
   "source": [
    "arr1 = np.array([1, 2, 3])  # 1D array\n",
    "arr2 = np.array([[1], [2]])  # 2D column vector\n",
    "\n",
    "# Broadcasting: Adding a 1D array to a 2D array\n",
    "broadcasted_sum = arr1 + arr2  \n",
    "\n",
    "print(\"After Broadcasting Addition:\\n\", broadcasted_sum)\n"
   ]
  },
  {
   "cell_type": "code",
   "execution_count": 15,
   "metadata": {},
   "outputs": [
    {
     "name": "stdout",
     "output_type": "stream",
     "text": [
      "Original 2D Array:\n",
      " [[1 2 3]\n",
      " [4 5 6]]\n",
      "1D Array:\n",
      " [1 2 3]\n",
      "Broadcasted Addition:\n",
      " [[2 4 6]\n",
      " [5 7 9]]\n"
     ]
    }
   ],
   "source": [
    "arr2D = np.array([[1, 2, 3], [4, 5, 6]])  \n",
    "arr1D = np.array([1, 2, 3])  \n",
    "\n",
    "# Broadcasting: 2D array is added to each row of the 1D array\n",
    "result = arr2D + arr1D  \n",
    "\n",
    "print(\"Original 2D Array:\\n\", arr2D)  \n",
    "print(\"1D Array:\\n\", arr1D)  \n",
    "print(\"Broadcasted Addition:\\n\", result)\n"
   ]
  },
  {
   "cell_type": "markdown",
   "metadata": {},
   "source": [
    "<h1>Linear Algebra</h1>\n",
    "<style>\n",
    "h1{\n",
    " color: green;   \n",
    "}    \n",
    "</style>"
   ]
  },
  {
   "cell_type": "code",
   "execution_count": 16,
   "metadata": {},
   "outputs": [
    {
     "name": "stdout",
     "output_type": "stream",
     "text": [
      "Matrix Multiplication:\n",
      " [[19 22]\n",
      " [43 50]]\n"
     ]
    }
   ],
   "source": [
    "A = np.array([[1, 2], [3, 4]])  \n",
    "B = np.array([[5, 6], [7, 8]])  \n",
    "\n",
    "# Matrix multiplication\n",
    "result = np.dot(A, B)  # or A @ B  \n",
    "\n",
    "print(\"Matrix Multiplication:\\n\", result)"
   ]
  },
  {
   "cell_type": "code",
   "execution_count": 17,
   "metadata": {},
   "outputs": [
    {
     "name": "stdout",
     "output_type": "stream",
     "text": [
      "Determinant of A: -2.0000000000000004\n"
     ]
    }
   ],
   "source": [
    "A = np.array([[1, 2], [3, 4]])  \n",
    "\n",
    "# Determinant\n",
    "det_A = np.linalg.det(A)  \n",
    "\n",
    "print(\"Determinant of A:\", det_A)"
   ]
  },
  {
   "cell_type": "code",
   "execution_count": 18,
   "metadata": {},
   "outputs": [
    {
     "name": "stdout",
     "output_type": "stream",
     "text": [
      "Inverse of A:\n",
      " [[-2.   1. ]\n",
      " [ 1.5 -0.5]]\n"
     ]
    }
   ],
   "source": [
    "A = np.array([[1, 2], [3, 4]])  \n",
    "\n",
    "# Inverse of A\n",
    "A_inv = np.linalg.inv(A)  \n",
    "\n",
    "print(\"Inverse of A:\\n\", A_inv)"
   ]
  },
  {
   "cell_type": "code",
   "execution_count": 19,
   "metadata": {},
   "outputs": [
    {
     "name": "stdout",
     "output_type": "stream",
     "text": [
      "Eigenvalues:\n",
      " [-0.37228132  5.37228132]\n",
      "Eigenvectors:\n",
      " [[-0.82456484 -0.41597356]\n",
      " [ 0.56576746 -0.90937671]]\n"
     ]
    }
   ],
   "source": [
    "A = np.array([[1, 2], [3, 4]])  \n",
    "\n",
    "# Eigenvalues and eigenvectors\n",
    "eigenvalues, eigenvectors = np.linalg.eig(A)  \n",
    "\n",
    "print(\"Eigenvalues:\\n\", eigenvalues)  \n",
    "print(\"Eigenvectors:\\n\", eigenvectors)"
   ]
  },
  {
   "cell_type": "markdown",
   "metadata": {},
   "source": [
    "#### Solving a Sytem of Linear Equations"
   ]
  },
  {
   "cell_type": "code",
   "execution_count": 21,
   "metadata": {},
   "outputs": [
    {
     "name": "stdout",
     "output_type": "stream",
     "text": [
      "Solution for x:\n",
      " [1. 2.]\n"
     ]
    }
   ],
   "source": [
    "A = np.array([[2, 3], [1, 2]])  \n",
    "B = np.array([8, 5])  \n",
    "# Ax=B    x= A inverse B \n",
    "# Solving for x\n",
    "x = np.linalg.solve(A, B)  \n",
    "\n",
    "print(\"Solution for x:\\n\", x)"
   ]
  },
  {
   "cell_type": "markdown",
   "metadata": {},
   "source": [
    "<h1>Advanced Indexing & Slicing</h1>\n",
    "<style>\n",
    "h1{\n",
    " color: green;   \n",
    "}    \n",
    "</style>"
   ]
  },
  {
   "cell_type": "code",
   "execution_count": 29,
   "metadata": {},
   "outputs": [
    {
     "name": "stdout",
     "output_type": "stream",
     "text": [
      "Filtered Elements: [30 40 50]\n"
     ]
    }
   ],
   "source": [
    "# Boolean Indexing\n",
    "\n",
    "arr = np.array([10, 20, 30, 40, 50])\n",
    "\n",
    "# Get elements greater than 25\n",
    "filtered_arr = arr[arr > 25]\n",
    "\n",
    "print(\"Filtered Elements:\", filtered_arr)"
   ]
  },
  {
   "cell_type": "code",
   "execution_count": 31,
   "metadata": {},
   "outputs": [
    {
     "name": "stdout",
     "output_type": "stream",
     "text": [
      "Even Numbers: [2 4 6 8]\n"
     ]
    }
   ],
   "source": [
    "# Selecting Even Numbers\n",
    "\n",
    "arr = np.array([1, 2, 3, 4, 5, 6, 7, 8])\n",
    "\n",
    "# Get even numbers\n",
    "even_numbers = arr[arr % 2 == 0]\n",
    "\n",
    "print(\"Even Numbers:\", even_numbers)"
   ]
  },
  {
   "cell_type": "code",
   "execution_count": 32,
   "metadata": {},
   "outputs": [
    {
     "name": "stdout",
     "output_type": "stream",
     "text": [
      "Modified Array: [  5  15 100 100 100]\n"
     ]
    }
   ],
   "source": [
    "# Replacing Values Based on Condition\n",
    "arr = np.array([5, 15, 25, 35, 45])\n",
    "\n",
    "# Replace values greater than 20 with 100\n",
    "arr[arr > 20] = 100\n",
    "\n",
    "print(\"Modified Array:\", arr)"
   ]
  },
  {
   "cell_type": "markdown",
   "metadata": {},
   "source": [
    "#### Fancy Indexing"
   ]
  },
  {
   "cell_type": "code",
   "execution_count": 33,
   "metadata": {},
   "outputs": [
    {
     "name": "stdout",
     "output_type": "stream",
     "text": [
      "Selected Elements: [10 30 50]\n"
     ]
    }
   ],
   "source": [
    "# Selecting Specific Elements\n",
    "\n",
    "arr = np.array([10, 20, 30, 40, 50])\n",
    "\n",
    "# Select elements at positions 0, 2, and 4\n",
    "selected = arr[[0, 2, 4]]\n",
    "\n",
    "print(\"Selected Elements:\", selected)\n"
   ]
  },
  {
   "cell_type": "code",
   "execution_count": 34,
   "metadata": {},
   "outputs": [
    {
     "name": "stdout",
     "output_type": "stream",
     "text": [
      "Selected Rows:\n",
      " [[10 20 30]\n",
      " [70 80 90]]\n"
     ]
    }
   ],
   "source": [
    "# Fancy Indexing in a 2D Array\n",
    "arr_2D = np.array([[10, 20, 30], \n",
    "                   [40, 50, 60], \n",
    "                   [70, 80, 90]])\n",
    "\n",
    "# Select elements from row 0 and row 2\n",
    "selected_rows = arr_2D[[0, 2]]\n",
    "\n",
    "print(\"Selected Rows:\\n\", selected_rows)\n"
   ]
  },
  {
   "cell_type": "markdown",
   "metadata": {},
   "source": [
    "#### Advanced Slicing"
   ]
  },
  {
   "cell_type": "code",
   "execution_count": 35,
   "metadata": {},
   "outputs": [
    {
     "name": "stdout",
     "output_type": "stream",
     "text": [
      "Sliced Array: [30 40 50 60]\n"
     ]
    }
   ],
   "source": [
    "# Slicing a 1D Array\n",
    "\n",
    "arr = np.array([10, 20, 30, 40, 50, 60, 70, 80])\n",
    "\n",
    "# Extract elements from index 2 to 5\n",
    "slice_1 = arr[2:6]\n",
    "\n",
    "print(\"Sliced Array:\", slice_1)\n"
   ]
  },
  {
   "cell_type": "code",
   "execution_count": 36,
   "metadata": {},
   "outputs": [
    {
     "name": "stdout",
     "output_type": "stream",
     "text": [
      "Sliced 2D Array:\n",
      " [[2 3]\n",
      " [6 7]]\n"
     ]
    }
   ],
   "source": [
    "# Slicing a 2D Array\n",
    "arr_2D = np.array([[1, 2, 3, 4], \n",
    "                    [5, 6, 7, 8], \n",
    "                    [9, 10, 11, 12]])\n",
    "\n",
    "# Extract rows 0-1 and columns 1-2\n",
    "sliced_2D = arr_2D[:2, 1:3]\n",
    "\n",
    "print(\"Sliced 2D Array:\\n\", sliced_2D)\n"
   ]
  },
  {
   "cell_type": "code",
   "execution_count": 37,
   "metadata": {},
   "outputs": [
    {
     "name": "stdout",
     "output_type": "stream",
     "text": [
      "Reversed Array: [50 40 30 20 10]\n"
     ]
    }
   ],
   "source": [
    "# Reversing an Array Using Slicing\n",
    "\n",
    "arr = np.array([10, 20, 30, 40, 50])\n",
    "\n",
    "# Reverse the array\n",
    "reversed_arr = arr[::-1]\n",
    "\n",
    "print(\"Reversed Array:\", reversed_arr)\n"
   ]
  },
  {
   "cell_type": "code",
   "execution_count": 38,
   "metadata": {},
   "outputs": [
    {
     "name": "stdout",
     "output_type": "stream",
     "text": [
      "Elements with Stride 2: [10 30 50 70]\n"
     ]
    }
   ],
   "source": [
    "# Stride Slicing\n",
    "\n",
    "arr = np.array([10, 20, 30, 40, 50, 60, 70])\n",
    "\n",
    "# Extract every second element\n",
    "stride_slice = arr[::2]\n",
    "\n",
    "print(\"Elements with Stride 2:\", stride_slice)\n"
   ]
  },
  {
   "cell_type": "markdown",
   "metadata": {},
   "source": [
    "<h1>Random Sampling</h1>\n",
    "<style>\n",
    "h1{\n",
    " color: green;   \n",
    "}    \n",
    "</style>"
   ]
  },
  {
   "cell_type": "code",
   "execution_count": 40,
   "metadata": {},
   "outputs": [
    {
     "name": "stdout",
     "output_type": "stream",
     "text": [
      "Random Integers: [16 42  3  5 18]\n"
     ]
    }
   ],
   "source": [
    "# Generate Random Integers\n",
    "\n",
    "# Generate 5 random integers between 1 and 50\n",
    "random_integers = np.random.randint(1, 50, size=5)\n",
    "\n",
    "print(\"Random Integers:\", random_integers)"
   ]
  },
  {
   "cell_type": "code",
   "execution_count": 42,
   "metadata": {},
   "outputs": [
    {
     "name": "stdout",
     "output_type": "stream",
     "text": [
      "Random Floats: [0.83043288 0.93915219 0.31095521 0.60753012 0.77158216]\n"
     ]
    }
   ],
   "source": [
    "# Generate Random Floating-Point Numbers\n",
    "\n",
    "# Generate 5 random floats between 0 and 1\n",
    "random_floats = np.random.rand(5)\n",
    "\n",
    "print(\"Random Floats:\", random_floats)\n"
   ]
  },
  {
   "cell_type": "code",
   "execution_count": 43,
   "metadata": {},
   "outputs": [
    {
     "name": "stdout",
     "output_type": "stream",
     "text": [
      "Random Normal Distribution: [-0.55365161  0.39829325  2.80358392 -0.01215786  0.58131595]\n"
     ]
    }
   ],
   "source": [
    "# Generate Random Numbers from a Normal Distribution\n",
    "\n",
    "# Generate 5 random numbers from a normal distribution\n",
    "random_normal = np.random.randn(5)\n",
    "\n",
    "print(\"Random Normal Distribution:\", random_normal)\n"
   ]
  },
  {
   "cell_type": "code",
   "execution_count": 44,
   "metadata": {},
   "outputs": [
    {
     "name": "stdout",
     "output_type": "stream",
     "text": [
      "Custom Normal Distribution: [40.45982325 49.11741575 60.65488867 54.14763659 54.61991871]\n"
     ]
    }
   ],
   "source": [
    "# Normal distribution with mean = 50, standard deviation = 10\n",
    "custom_normal = np.random.normal(50, 10, 5)\n",
    "\n",
    "print(\"Custom Normal Distribution:\", custom_normal)\n"
   ]
  },
  {
   "cell_type": "markdown",
   "metadata": {},
   "source": [
    "#### Create Random Samples from a Dataset"
   ]
  },
  {
   "cell_type": "code",
   "execution_count": 45,
   "metadata": {},
   "outputs": [
    {
     "name": "stdout",
     "output_type": "stream",
     "text": [
      "Random Samples: [10 10 10]\n"
     ]
    }
   ],
   "source": [
    "# Select Random Elements from a List\n",
    "\n",
    "arr = np.array([10, 20, 30, 40, 50, 60])\n",
    "\n",
    "# Select 3 random elements\n",
    "random_samples = np.random.choice(arr, 3)\n",
    "\n",
    "print(\"Random Samples:\", random_samples)\n"
   ]
  },
  {
   "cell_type": "code",
   "execution_count": 46,
   "metadata": {},
   "outputs": [
    {
     "name": "stdout",
     "output_type": "stream",
     "text": [
      "Unique Random Samples: [40 30 60]\n"
     ]
    }
   ],
   "source": [
    "# Select Random Elements Without Replacement\n",
    "\n",
    "# Select 3 unique elements (no repetition)\n",
    "unique_samples = np.random.choice(arr, 3, replace=False)\n",
    "\n",
    "print(\"Unique Random Samples:\", unique_samples)\n"
   ]
  },
  {
   "cell_type": "markdown",
   "metadata": {},
   "source": [
    "#### Random Shuffling of an Array"
   ]
  },
  {
   "cell_type": "code",
   "execution_count": 47,
   "metadata": {},
   "outputs": [
    {
     "name": "stdout",
     "output_type": "stream",
     "text": [
      "Shuffled Array: [1 2 3 4 5]\n"
     ]
    }
   ],
   "source": [
    "# Shuffle an Array In-Place\n",
    "\n",
    "arr = np.array([1, 2, 3, 4, 5])\n",
    "\n",
    "np.random.shuffle(arr)  # Shuffles array in-place\n",
    "\n",
    "print(\"Shuffled Array:\", arr)\n"
   ]
  },
  {
   "cell_type": "code",
   "execution_count": 48,
   "metadata": {},
   "outputs": [
    {
     "name": "stdout",
     "output_type": "stream",
     "text": [
      "Original Array: [10 20 30 40 50]\n",
      "Shuffled Copy: [30 20 40 10 50]\n"
     ]
    }
   ],
   "source": [
    "# Return a New Shuffled Array\n",
    "\n",
    "arr = np.array([10, 20, 30, 40, 50])\n",
    "\n",
    "shuffled_arr = np.random.permutation(arr)\n",
    "\n",
    "print(\"Original Array:\", arr)\n",
    "print(\"Shuffled Copy:\", shuffled_arr)\n"
   ]
  }
 ],
 "metadata": {
  "kernelspec": {
   "display_name": "Python 3",
   "language": "python",
   "name": "python3"
  },
  "language_info": {
   "codemirror_mode": {
    "name": "ipython",
    "version": 3
   },
   "file_extension": ".py",
   "mimetype": "text/x-python",
   "name": "python",
   "nbconvert_exporter": "python",
   "pygments_lexer": "ipython3",
   "version": "3.13.2"
  }
 },
 "nbformat": 4,
 "nbformat_minor": 2
}
