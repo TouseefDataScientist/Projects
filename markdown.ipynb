{
 "cells": [
  {
   "cell_type": "markdown",
   "metadata": {},
   "source": [
    "\n",
    "# Ahmed Waseem\n",
    "   #### Junior SQL Developer\n",
    "### Contact Information\n",
    "- **Phone:** +92 343 1061101\n",
    "- **Email:** ahmedwaseem42@gmail.com\n",
    "- **Github UserName:** Ahmed25142\n",
    "\n",
    "## Summary\n",
    "Dynamic and motivated Computer Science graduate with practical experience in Oracle SQL & Web Development Technologies. Eager to leverage academic knowledge and professional experience to contribute effectively in a challenging IT environment.\n",
    "\n",
    "### Education\n",
    "#### Bechelors in Computer Science\n",
    "- **Foundation University Rawalpindi Campus**\n",
    "- **Graduation Year:** 2022\n",
    "- **CGPA:** 3.73\n",
    "\n",
    "### Experience\n",
    "#### Junior Website and Database Developer\n",
    "- **OvacSol PVT LTD** - Rawalpindi\n",
    "- **Duration:** 06/2024 - Continuing\n",
    "\n",
    "### Skills\n",
    "- Kali Linux\n",
    "- JavaScript\n",
    "- SQL/PL-SQL\n",
    "- Network Designing\n",
    "\n",
    "### Project\n",
    "#### Smart Driver Monitoring System\n",
    "- **Description** The systme was capable to moniter the driver of the commercial vehicle to see if he was wearing a seatbelt, not using a mobile phone or if by chance goes to sleep while driving.\n",
    "- **Technologies:**\n",
    "        - Python\n",
    "        - OpenCV\n",
    "        - Tensorflow\n",
    "        - dlib\n",
    "\n",
    "### Certifications\n",
    "- CyberSecurity 2022\n",
    "-  Packet Tracer 7.2. and Cisco ISO 2021"
   ]
  },
  {
   "cell_type": "markdown",
   "metadata": {},
   "source": []
  }
 ],
 "metadata": {
  "language_info": {
   "name": "python"
  }
 },
 "nbformat": 4,
 "nbformat_minor": 2
}
