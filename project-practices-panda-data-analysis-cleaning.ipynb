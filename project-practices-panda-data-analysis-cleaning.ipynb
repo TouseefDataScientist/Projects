{
 "cells": [
  {
   "cell_type": "markdown",
   "metadata": {},
   "source": [
    "<font style=\"color: red;\">\n",
    "<center> Name Mohsin Arif AI & Machine Learning<br></font>\n",
    "[Email] (mohsinarif2009@gmail.com)<br>\n",
    "Title # Python pandas Data anaylsis and Cleaning<br></center>"
   ]
  },
  {
   "cell_type": "markdown",
   "metadata": {},
   "source": [
    "# Step 1 Import necessary Libraries \n",
    "\n",
    "# Python pandas Data anaylsis and Cleaning"
   ]
  },
  {
   "cell_type": "markdown",
   "metadata": {},
   "source": [
    "# 1- Insatall  library"
   ]
  },
  {
   "cell_type": "code",
   "execution_count": 11,
   "metadata": {},
   "outputs": [
    {
     "name": "stdout",
     "output_type": "stream",
     "text": [
      "Requirement already satisfied: pandas in c:\\users\\ydo hello\\appdata\\local\\programs\\python\\python313\\lib\\site-packages (2.2.3)\n",
      "Requirement already satisfied: numpy>=1.26.0 in c:\\users\\ydo hello\\appdata\\local\\programs\\python\\python313\\lib\\site-packages (from pandas) (2.2.3)\n",
      "Requirement already satisfied: python-dateutil>=2.8.2 in c:\\users\\ydo hello\\appdata\\roaming\\python\\python313\\site-packages (from pandas) (2.9.0.post0)\n",
      "Requirement already satisfied: pytz>=2020.1 in c:\\users\\ydo hello\\appdata\\local\\programs\\python\\python313\\lib\\site-packages (from pandas) (2025.1)\n",
      "Requirement already satisfied: tzdata>=2022.7 in c:\\users\\ydo hello\\appdata\\local\\programs\\python\\python313\\lib\\site-packages (from pandas) (2025.1)\n",
      "Requirement already satisfied: six>=1.5 in c:\\users\\ydo hello\\appdata\\roaming\\python\\python313\\site-packages (from python-dateutil>=2.8.2->pandas) (1.17.0)\n",
      "Note: you may need to restart the kernel to use updated packages.\n"
     ]
    }
   ],
   "source": [
    "%pip install pandas "
   ]
  },
  {
   "cell_type": "code",
   "execution_count": 3,
   "metadata": {},
   "outputs": [],
   "source": [
    "import pandas as pd"
   ]
  },
  {
   "cell_type": "markdown",
   "metadata": {},
   "source": [
    "# Insatall second library Numpy"
   ]
  },
  {
   "cell_type": "code",
   "execution_count": 9,
   "metadata": {},
   "outputs": [
    {
     "name": "stdout",
     "output_type": "stream",
     "text": [
      "Requirement already satisfied: numpy in c:\\users\\ydo hello\\appdata\\local\\programs\\python\\python313\\lib\\site-packages (2.2.3)\n",
      "Note: you may need to restart the kernel to use updated packages.\n"
     ]
    }
   ],
   "source": [
    "%pip install numpy"
   ]
  },
  {
   "cell_type": "markdown",
   "metadata": {},
   "source": [
    "# - Import library Pandas & Numpy "
   ]
  },
  {
   "cell_type": "code",
   "execution_count": 12,
   "metadata": {},
   "outputs": [],
   "source": [
    "import pandas as pd\n",
    "\n"
   ]
  },
  {
   "cell_type": "code",
   "execution_count": 14,
   "metadata": {},
   "outputs": [],
   "source": [
    " import numpy as np"
   ]
  },
  {
   "cell_type": "markdown",
   "metadata": {},
   "source": [
    "# Step-02 \n",
    "# load the CSV data into a dataFrame"
   ]
  },
  {
   "cell_type": "code",
   "execution_count": null,
   "metadata": {},
   "outputs": [],
   "source": [
    "df= pd.read_csv('data.csv')\n"
   ]
  },
  {
   "cell_type": "markdown",
   "metadata": {},
   "source": [
    "# Step-03\n",
    "# dispaly the first few rows of the DataFrame Python"
   ]
  },
  {
   "cell_type": "code",
   "execution_count": null,
   "metadata": {},
   "outputs": [],
   "source": [
    "Print (df.head())"
   ]
  },
  {
   "cell_type": "markdown",
   "metadata": {},
   "source": [
    "# Step -04 Check missing values"
   ]
  },
  {
   "cell_type": "code",
   "execution_count": 18,
   "metadata": {},
   "outputs": [
    {
     "name": "stdout",
     "output_type": "stream",
     "text": [
      "Name           0\n",
      "Designation    0\n",
      "Gender         0\n",
      "Age            1\n",
      "Salary         2\n",
      "dtype: int64\n"
     ]
    }
   ],
   "source": [
    "print(df.isnull().sum())"
   ]
  },
  {
   "cell_type": "markdown",
   "metadata": {},
   "source": []
  },
  {
   "cell_type": "markdown",
   "metadata": {},
   "source": [
    "# step 5  fill missing value inthe salary  colum with in mean salary\n"
   ]
  },
  {
   "cell_type": "code",
   "execution_count": 19,
   "metadata": {},
   "outputs": [
    {
     "name": "stderr",
     "output_type": "stream",
     "text": [
      "C:\\Users\\YDO hello\\AppData\\Local\\Temp\\ipykernel_4168\\3016204011.py:2: FutureWarning: A value is trying to be set on a copy of a DataFrame or Series through chained assignment using an inplace method.\n",
      "The behavior will change in pandas 3.0. This inplace method will never work because the intermediate object on which we are setting values always behaves as a copy.\n",
      "\n",
      "For example, when doing 'df[col].method(value, inplace=True)', try using 'df.method({col: value}, inplace=True)' or df[col] = df[col].method(value) instead, to perform the operation inplace on the original object.\n",
      "\n",
      "\n",
      "  df['Salary']. fillna(mean_salary, inplace=True)\n"
     ]
    }
   ],
   "source": [
    "mean_salary = df ['Salary'] .mean()\n",
    "df['Salary']. fillna(mean_salary, inplace=True)"
   ]
  },
  {
   "cell_type": "markdown",
   "metadata": {},
   "source": [
    "# step 5  fill missing value inthe salary  colum with in median salary\n"
   ]
  },
  {
   "cell_type": "code",
   "execution_count": 20,
   "metadata": {},
   "outputs": [
    {
     "name": "stdout",
     "output_type": "stream",
     "text": [
      "0     1.150000e+05\n",
      "1     3.500000e+04\n",
      "2     5.000000e+04\n",
      "3     7.000000e+04\n",
      "4     1.500000e+06\n",
      "5     1.725333e+05\n",
      "6     2.000000e+04\n",
      "7     1.150000e+05\n",
      "8     3.500000e+04\n",
      "9     1.725333e+05\n",
      "10    7.000000e+04\n",
      "11    9.000000e+04\n",
      "12    1.100000e+05\n",
      "13    2.000000e+03\n",
      "14    1.600000e+04\n",
      "15    1.700000e+05\n",
      "16    1.900000e+05\n",
      "Name: Salary, dtype: float64\n"
     ]
    }
   ],
   "source": [
    "df2=df['Salary'].fillna(df['Salary'].median())\n",
    "print(df2)"
   ]
  },
  {
   "cell_type": "code",
   "execution_count": 22,
   "metadata": {},
   "outputs": [
    {
     "data": {
      "text/plain": [
       "np.int64(0)"
      ]
     },
     "execution_count": 22,
     "metadata": {},
     "output_type": "execute_result"
    }
   ],
   "source": [
    "df['Salary'].isnull().sum()"
   ]
  },
  {
   "cell_type": "code",
   "execution_count": 23,
   "metadata": {},
   "outputs": [
    {
     "data": {
      "text/plain": [
       "Name           0\n",
       "Designation    0\n",
       "Gender         0\n",
       "Age            1\n",
       "Salary         0\n",
       "dtype: int64"
      ]
     },
     "execution_count": 23,
     "metadata": {},
     "output_type": "execute_result"
    }
   ],
   "source": [
    "df.isnull().sum()"
   ]
  },
  {
   "cell_type": "markdown",
   "metadata": {},
   "source": [
    "# step 6  fill missing value in the Age  colum with in mean AGE\n"
   ]
  },
  {
   "cell_type": "code",
   "execution_count": 26,
   "metadata": {},
   "outputs": [
    {
     "name": "stderr",
     "output_type": "stream",
     "text": [
      "C:\\Users\\YDO hello\\AppData\\Local\\Temp\\ipykernel_4168\\3395467052.py:2: FutureWarning: A value is trying to be set on a copy of a DataFrame or Series through chained assignment using an inplace method.\n",
      "The behavior will change in pandas 3.0. This inplace method will never work because the intermediate object on which we are setting values always behaves as a copy.\n",
      "\n",
      "For example, when doing 'df[col].method(value, inplace=True)', try using 'df.method({col: value}, inplace=True)' or df[col] = df[col].method(value) instead, to perform the operation inplace on the original object.\n",
      "\n",
      "\n",
      "  df['Age'].fillna(mean_Age , inplace= True)\n"
     ]
    }
   ],
   "source": [
    "mean_Age = df['Age'] .mean()\n",
    "df['Age'].fillna(mean_Age , inplace= True)"
   ]
  },
  {
   "cell_type": "markdown",
   "metadata": {},
   "source": []
  },
  {
   "cell_type": "code",
   "execution_count": 27,
   "metadata": {},
   "outputs": [
    {
     "data": {
      "text/plain": [
       "Name           0\n",
       "Designation    0\n",
       "Gender         0\n",
       "Age            0\n",
       "Salary         0\n",
       "dtype: int64"
      ]
     },
     "execution_count": 27,
     "metadata": {},
     "output_type": "execute_result"
    }
   ],
   "source": [
    "df.isnull().sum()"
   ]
  },
  {
   "cell_type": "markdown",
   "metadata": {},
   "source": [
    "7 step correct any Obvious data entry errors inthe Age colum"
   ]
  },
  {
   "cell_type": "code",
   "execution_count": 29,
   "metadata": {},
   "outputs": [
    {
     "data": {
      "text/plain": [
       "0     37.0000\n",
       "1     30.0000\n",
       "2     29.0000\n",
       "3     30.0000\n",
       "4     25.0000\n",
       "5     22.0000\n",
       "6     29.0000\n",
       "7     26.0000\n",
       "8     28.0000\n",
       "9     55.0000\n",
       "10    60.0000\n",
       "11    48.6875\n",
       "12    48.6875\n",
       "13    67.0000\n",
       "14    80.0000\n",
       "15    20.0000\n",
       "16    85.0000\n",
       "Name: Age, dtype: float64"
      ]
     },
     "execution_count": 29,
     "metadata": {},
     "output_type": "execute_result"
    }
   ],
   "source": [
    "df['Age'].apply (lambda x: x if x<120 else mean_Age) "
   ]
  },
  {
   "cell_type": "code",
   "execution_count": null,
   "metadata": {},
   "outputs": [
    {
     "data": {
      "text/plain": [
       "0     172533.333333\n",
       "1     172533.333333\n",
       "2     172533.333333\n",
       "3     172533.333333\n",
       "4     172533.333333\n",
       "5     172533.333333\n",
       "6     172533.333333\n",
       "7     172533.333333\n",
       "8     172533.333333\n",
       "9     172533.333333\n",
       "10    172533.333333\n",
       "11    172533.333333\n",
       "12    172533.333333\n",
       "13      2000.000000\n",
       "14    172533.333333\n",
       "15    172533.333333\n",
       "16    172533.333333\n",
       "Name: Salary, dtype: float64"
      ]
     },
     "execution_count": 32,
     "metadata": {},
     "output_type": "execute_result"
    }
   ],
   "source": [
    " df['Salary'].apply ( lambda x: x  if x<6000 else mean_salary)"
   ]
  },
  {
   "cell_type": "markdown",
   "metadata": {},
   "source": [
    "# 08 step standardize the 'Designation'  Colum to have Consistent Capitailzation "
   ]
  },
  {
   "cell_type": "code",
   "execution_count": 39,
   "metadata": {},
   "outputs": [
    {
     "name": "stdout",
     "output_type": "stream",
     "text": [
      "0     Professor\n",
      "1       Teacher\n",
      "2      Engineer\n",
      "3       Analyst\n",
      "4      Engineer\n",
      "5     Scientist\n",
      "6       Analyst\n",
      "7     Scientist\n",
      "8      Engineer\n",
      "9       Teacher\n",
      "10    Professor\n",
      "11     Engineer\n",
      "12      Trainer\n",
      "13      Teacher\n",
      "14      Trainer\n",
      "15    Professor\n",
      "16     Engineer\n",
      "Name: Designation, dtype: object\n"
     ]
    }
   ],
   "source": [
    "df['Designation'] = df['Designation'].str.title()\n",
    "print(df['Designation'] )"
   ]
  },
  {
   "cell_type": "markdown",
   "metadata": {},
   "source": [
    "# STEP 09 CALCULATE THE Average SALARY  by Gender"
   ]
  },
  {
   "cell_type": "code",
   "execution_count": null,
   "metadata": {},
   "outputs": [
    {
     "name": "stdout",
     "output_type": "stream",
     "text": [
      "Gender\n",
      "F    318755.555556\n",
      "M     92775.757576\n",
      "Name: Salary, dtype: float64\n"
     ]
    }
   ],
   "source": [
    "Salary_by_gender = df.groupby('Gender')['Salary'].mean()\n",
    "print(Salary_by_gender)"
   ]
  },
  {
   "cell_type": "markdown",
   "metadata": {},
   "source": [
    "# 10 STEP  CALCULATE THE Average Age  by Designation"
   ]
  },
  {
   "cell_type": "code",
   "execution_count": 44,
   "metadata": {},
   "outputs": [
    {
     "name": "stdout",
     "output_type": "stream",
     "text": [
      "Designation\n",
      "Analyst       45000.000000\n",
      "Engineer     373000.000000\n",
      "Professor    118333.333333\n",
      "Scientist    143766.666667\n",
      "Teacher       69844.444444\n",
      "Trainer       63000.000000\n",
      "Name: Salary, dtype: float64\n"
     ]
    }
   ],
   "source": [
    "Salary_by_Designation = df.groupby('Designation')['Salary'].mean()\n",
    "print(Salary_by_Designation)"
   ]
  },
  {
   "cell_type": "markdown",
   "metadata": {},
   "source": [
    "# 11 STEP  CALCULATE THE Higher salary  greater than 100,000"
   ]
  },
  {
   "cell_type": "code",
   "execution_count": 45,
   "metadata": {},
   "outputs": [
    {
     "name": "stdout",
     "output_type": "stream",
     "text": [
      "        Name Designation Gender    Age        Salary\n",
      "0    Mukhtar   Professor      M   37.0  1.150000e+05\n",
      "4      Babar    Engineer      F   25.0  1.500000e+06\n",
      "5       Aqsa   Scientist      F   22.0  1.725333e+05\n",
      "7      Samra   Scientist      F   26.0  1.150000e+05\n",
      "9   Abdullah     Teacher      M   55.0  1.725333e+05\n",
      "12     Ahsan     Trainer      M  156.0  1.100000e+05\n",
      "15    Qaisar   Professor      M   20.0  1.700000e+05\n",
      "16     Wajid    Engineer      M   85.0  1.900000e+05\n"
     ]
    }
   ],
   "source": [
    "higher_salary = df[df['Salary']> 100000]\n",
    "print (higher_salary)"
   ]
  },
  {
   "cell_type": "markdown",
   "metadata": {},
   "source": [
    "#  12 Step store the salary by Age "
   ]
  },
  {
   "cell_type": "code",
   "execution_count": 47,
   "metadata": {},
   "outputs": [
    {
     "name": "stdout",
     "output_type": "stream",
     "text": [
      "             Name Designation Gender       Age        Salary\n",
      "12          Ahsan     Trainer      M  156.0000  1.100000e+05\n",
      "16          Wajid    Engineer      M   85.0000  1.900000e+05\n",
      "14          Naeem     Trainer      M   80.0000  1.600000e+04\n",
      "13          Wajid     Teacher      M   67.0000  2.000000e+03\n",
      "10          Mosib   Professor      M   60.0000  7.000000e+04\n",
      "9        Abdullah     Teacher      M   55.0000  1.725333e+05\n",
      "11          Ahmed    Engineer      M   48.6875  9.000000e+04\n",
      "0         Mukhtar   Professor      M   37.0000  1.150000e+05\n",
      "1           Azziz     Teacher      M   30.0000  3.500000e+04\n",
      "3   Naveed Fatima     Analyst      F   30.0000  7.000000e+04\n",
      "2          Mohsin    Engineer      M   29.0000  5.000000e+04\n",
      "6           Rafia     Analyst      F   29.0000  2.000000e+04\n",
      "8            Eman    Engineer      F   28.0000  3.500000e+04\n",
      "7           Samra   Scientist      F   26.0000  1.150000e+05\n",
      "4           Babar    Engineer      F   25.0000  1.500000e+06\n",
      "5            Aqsa   Scientist      F   22.0000  1.725333e+05\n",
      "15         Qaisar   Professor      M   20.0000  1.700000e+05\n"
     ]
    }
   ],
   "source": [
    "sorted_df = df.sort_values(by='Age', ascending= False)\n",
    "print(sorted_df)"
   ]
  },
  {
   "cell_type": "markdown",
   "metadata": {},
   "source": [
    "#  13 Save the cleaned DataFrame to a new CSV file\n"
   ]
  },
  {
   "cell_type": "code",
   "execution_count": 48,
   "metadata": {},
   "outputs": [],
   "source": [
    "df.to_csv('Cleaned_data.csv', index= False)"
   ]
  },
  {
   "cell_type": "code",
   "execution_count": 49,
   "metadata": {},
   "outputs": [
    {
     "name": "stdout",
     "output_type": "stream",
     "text": [
      "<bound method NDFrame.describe of              Name Designation Gender       Age        Salary\n",
      "0         Mukhtar   Professor      M   37.0000  1.150000e+05\n",
      "1           Azziz     Teacher      M   30.0000  3.500000e+04\n",
      "2          Mohsin    Engineer      M   29.0000  5.000000e+04\n",
      "3   Naveed Fatima     Analyst      F   30.0000  7.000000e+04\n",
      "4           Babar    Engineer      F   25.0000  1.500000e+06\n",
      "5            Aqsa   Scientist      F   22.0000  1.725333e+05\n",
      "6           Rafia     Analyst      F   29.0000  2.000000e+04\n",
      "7           Samra   Scientist      F   26.0000  1.150000e+05\n",
      "8            Eman    Engineer      F   28.0000  3.500000e+04\n",
      "9        Abdullah     Teacher      M   55.0000  1.725333e+05\n",
      "10          Mosib   Professor      M   60.0000  7.000000e+04\n",
      "11          Ahmed    Engineer      M   48.6875  9.000000e+04\n",
      "12          Ahsan     Trainer      M  156.0000  1.100000e+05\n",
      "13          Wajid     Teacher      M   67.0000  2.000000e+03\n",
      "14          Naeem     Trainer      M   80.0000  1.600000e+04\n",
      "15         Qaisar   Professor      M   20.0000  1.700000e+05\n",
      "16          Wajid    Engineer      M   85.0000  1.900000e+05>\n"
     ]
    }
   ],
   "source": [
    "print (df.describe)"
   ]
  },
  {
   "cell_type": "code",
   "execution_count": null,
   "metadata": {},
   "outputs": [],
   "source": []
  }
 ],
 "metadata": {
  "kernelspec": {
   "display_name": "Python 3",
   "language": "python",
   "name": "python3"
  },
  "language_info": {
   "codemirror_mode": {
    "name": "ipython",
    "version": 3
   },
   "file_extension": ".py",
   "mimetype": "text/x-python",
   "name": "python",
   "nbconvert_exporter": "python",
   "pygments_lexer": "ipython3",
   "version": "3.13.2"
  }
 },
 "nbformat": 4,
 "nbformat_minor": 2
}
