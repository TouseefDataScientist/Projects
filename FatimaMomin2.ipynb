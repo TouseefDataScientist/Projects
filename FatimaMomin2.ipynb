{
 "cells": [
  {
   "cell_type": "markdown",
   "metadata": {},
   "source": [
    "______________________________________________________________________________________________________"
   ]
  },
  {
   "cell_type": "markdown",
   "metadata": {},
   "source": [
    "**Fatima Momin**"
   ]
  },
  {
   "cell_type": "markdown",
   "metadata": {},
   "source": [
    "Email: <fatimamomina423@gmail.com>"
   ]
  },
  {
   "cell_type": "markdown",
   "metadata": {},
   "source": [
    "GitHub: **[Account](https://https://github.com/Fatima4AIML)**"
   ]
  },
  {
   "cell_type": "markdown",
   "metadata": {},
   "source": [
    "__________________________________________________________________________"
   ]
  },
  {
   "cell_type": "markdown",
   "metadata": {},
   "source": [
    "**Objective:** <br>\n",
    "Motivated and detail-oriented individual with a strong interest in IT and creative writing. Seeking an opportunity to apply technical knowledge and communication skills in a dynamic environment. Passionate about problem-solving, innovation, and continuous learning "
   ]
  },
  {
   "cell_type": "markdown",
   "metadata": {},
   "source": [
    "______________________________________________________________________________________________________"
   ]
  },
  {
   "cell_type": "markdown",
   "metadata": {},
   "source": [
    "**EXPERIENCE:** <br>\n",
    "            **9th August 2023 - 1st October 2023** <br>\n",
    "              **TEACHING**, The seeds Montessori and high school \n",
    "              My duties is to obey all rules of school, maintain gaps with students and  \n",
    "              work with loyalty"
   ]
  },
  {
   "cell_type": "markdown",
   "metadata": {},
   "source": [
    "______________________________________________________________________________________________________"
   ]
  },
  {
   "cell_type": "markdown",
   "metadata": {},
   "source": [
    "**EDUCATION:** <br>\n",
    "                  **BS IT (2023 – 2027)** <br>\n",
    "                  **Current Semester:** 4th <br>\n",
    "                  University of Gujrat (Gordon College) <br>\n",
    "                     **Intermediate (2021 – 2023)** <br>\n",
    "                  **FSC** (Pre Engineering), Government no 1 Bagh Sardaran  <br>\n",
    "                    **Matric (2019 – 2021)** <br>\n",
    "                  **Science** (Computer Science), Government no 1 Bagh Sardaran <br>\n"
   ]
  },
  {
   "cell_type": "markdown",
   "metadata": {},
   "source": [
    "_____________________________________________________________________________________________________"
   ]
  },
  {
   "cell_type": "markdown",
   "metadata": {},
   "source": [
    "**SKILLS** <br>\n",
    "1. Communication Skills                \n",
    "2. Time Management <br>\n",
    "3. Python Basics                    \n",
    "4. Web Desiging <br>"
   ]
  },
  {
   "cell_type": "markdown",
   "metadata": {},
   "source": [
    "______________________________________________________________________________________________________"
   ]
  },
  {
   "cell_type": "markdown",
   "metadata": {},
   "source": [
    "**Languages:** &nbsp;&nbsp;&nbsp;&nbsp;&nbsp;&nbsp;&nbsp;            English  &nbsp;&nbsp;&nbsp;&nbsp;&nbsp;&nbsp;&nbsp;&nbsp;&nbsp;&nbsp;                         Urdu"
   ]
  },
  {
   "cell_type": "markdown",
   "metadata": {},
   "source": [
    "______________________________________________________________________________________________________"
   ]
  }
 ],
 "metadata": {
  "kernelspec": {
   "display_name": "Python 3",
   "language": "python",
   "name": "python3"
  },
  "language_info": {
   "codemirror_mode": {
    "name": "ipython",
    "version": 3
   },
   "file_extension": ".py",
   "mimetype": "text/x-python",
   "name": "python",
   "nbconvert_exporter": "python",
   "pygments_lexer": "ipython3",
   "version": "3.13.2"
  }
 },
 "nbformat": 4,
 "nbformat_minor": 2
}
