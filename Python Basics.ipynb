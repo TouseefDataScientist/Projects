{
 "cells": [
  {
   "cell_type": "code",
   "execution_count": 15,
   "metadata": {},
   "outputs": [],
   "source": [
    "#Python Syntax"
   ]
  },
  {
   "cell_type": "code",
   "execution_count": 16,
   "metadata": {},
   "outputs": [
    {
     "name": "stdout",
     "output_type": "stream",
     "text": [
      "Fatima Momin\n"
     ]
    }
   ],
   "source": [
    "print(\"Fatima Momin\")"
   ]
  },
  {
   "cell_type": "code",
   "execution_count": 17,
   "metadata": {},
   "outputs": [],
   "source": [
    "#Python Comment (by the use of hash)"
   ]
  },
  {
   "cell_type": "code",
   "execution_count": 18,
   "metadata": {},
   "outputs": [],
   "source": [
    "#Python Variables"
   ]
  },
  {
   "cell_type": "code",
   "execution_count": 19,
   "metadata": {},
   "outputs": [
    {
     "data": {
      "text/plain": [
       "20"
      ]
     },
     "execution_count": 19,
     "metadata": {},
     "output_type": "execute_result"
    }
   ],
   "source": [
    "x=10\n",
    "y=10\n",
    "x+y"
   ]
  },
  {
   "cell_type": "code",
   "execution_count": 22,
   "metadata": {},
   "outputs": [],
   "source": [
    "#Python Variable Names (Case sensitive so illegal names are not allowed)"
   ]
  },
  {
   "cell_type": "code",
   "execution_count": 26,
   "metadata": {},
   "outputs": [
    {
     "name": "stdout",
     "output_type": "stream",
     "text": [
      "Fatima Momin\n",
      "fatima\n",
      "Momina\n"
     ]
    }
   ],
   "source": [
    "myvar=\"Fatima Momin\" #my var(error will occur because illegal)\n",
    "my_var=\"fatima\"#my-var (wrong)\n",
    "myVar=\"Momina\"#2myvar(wrong)\n",
    "print(myvar)\n",
    "print(my_var)\n",
    "print(myVar)"
   ]
  },
  {
   "cell_type": "code",
   "execution_count": 29,
   "metadata": {},
   "outputs": [],
   "source": [
    "#Multiple Variables"
   ]
  },
  {
   "cell_type": "code",
   "execution_count": 28,
   "metadata": {},
   "outputs": [
    {
     "name": "stdout",
     "output_type": "stream",
     "text": [
      "one\n",
      "two\n",
      "three\n"
     ]
    }
   ],
   "source": [
    "a, b, c = \"one\", \"two\", \"three\"\n",
    "print(a)\n",
    "print(b)\n",
    "print(c)"
   ]
  },
  {
   "cell_type": "code",
   "execution_count": 66,
   "metadata": {},
   "outputs": [
    {
     "name": "stdout",
     "output_type": "stream",
     "text": [
      "Mobile\n",
      "Laptop\n",
      "Charger\n"
     ]
    }
   ],
   "source": [
    "Products = [\"Mobile\", \"Laptop\", \"Charger\"] #this is list\n",
    "a, b, c = Products\n",
    "print(a)\n",
    "print(b)\n",
    "print(c)"
   ]
  },
  {
   "cell_type": "code",
   "execution_count": 31,
   "metadata": {},
   "outputs": [],
   "source": [
    "#Python Numbers "
   ]
  },
  {
   "cell_type": "code",
   "execution_count": 32,
   "metadata": {},
   "outputs": [
    {
     "data": {
      "text/plain": [
       "1j"
      ]
     },
     "execution_count": 32,
     "metadata": {},
     "output_type": "execute_result"
    }
   ],
   "source": [
    "a = 1    # int datatype\n",
    "b = 2.8  # float datatype\n",
    "c = 1j   # complex datatype \n",
    "c"
   ]
  },
  {
   "cell_type": "code",
   "execution_count": 33,
   "metadata": {},
   "outputs": [],
   "source": [
    "#Random Number"
   ]
  },
  {
   "cell_type": "code",
   "execution_count": 34,
   "metadata": {},
   "outputs": [
    {
     "name": "stdout",
     "output_type": "stream",
     "text": [
      "54\n"
     ]
    }
   ],
   "source": [
    "import random #it takes any random number from given range \n",
    "\n",
    "print(random.randrange(40,60 ))"
   ]
  },
  {
   "cell_type": "code",
   "execution_count": 35,
   "metadata": {},
   "outputs": [],
   "source": [
    "#Python Casting"
   ]
  },
  {
   "cell_type": "code",
   "execution_count": 38,
   "metadata": {},
   "outputs": [
    {
     "name": "stdout",
     "output_type": "stream",
     "text": [
      "Fatima\n",
      "15\n",
      "2.45\n"
     ]
    }
   ],
   "source": [
    "x = str(\"Fatima\") #another method to initialize the datatype   \n",
    "y = int(15)    \n",
    "z = float(2.45)\n",
    "print(x)\n",
    "print(y)\n",
    "print(z)"
   ]
  },
  {
   "cell_type": "code",
   "execution_count": 39,
   "metadata": {},
   "outputs": [],
   "source": [
    "#Python String"
   ]
  },
  {
   "cell_type": "code",
   "execution_count": 53,
   "metadata": {},
   "outputs": [
    {
     "name": "stdout",
     "output_type": "stream",
     "text": [
      "Fatima\n",
      "fatima\n",
      "26\n",
      "True\n",
      "False\n",
      "THIS IS THE TEXT OF STRING\n",
      "this is the text of string\n",
      "I'm from Pkaistan\n",
      "I'm from Rkaistan \n"
     ]
    }
   ],
   "source": [
    "print(\"Fatima\")\n",
    "print('fatima')\n",
    "text=\"this is the text of string\"\n",
    "ex=\"I'm from Pkaistan \"\n",
    "print(len(text)) #display length\n",
    "print(\"string\" in text)#display true if in the text\n",
    "print(\"yes\" in text)#vice versa\n",
    "print(text.upper()) #display upper text\n",
    "print(text.lower()) #display lower text\n",
    "print(ex.strip()) #display \"this is the text of string\"\n",
    "print(ex.replace(\"P\", \"R\")) # replace string p with r"
   ]
  },
  {
   "cell_type": "code",
   "execution_count": 45,
   "metadata": {},
   "outputs": [],
   "source": [
    "#Slicing String"
   ]
  },
  {
   "cell_type": "code",
   "execution_count": 48,
   "metadata": {},
   "outputs": [
    {
     "name": "stdout",
     "output_type": "stream",
     "text": [
      "Hel\n",
      "Hello,\n",
      "ello, World!\n",
      "l\n"
     ]
    }
   ],
   "source": [
    "text = \"Hello, World!\" #the index start from 0 \n",
    "print(text[0:3]) #display 0 to 3\n",
    "print(text[:6]) #display from start\n",
    "print(text[1:]) #display till end\n",
    "print(text[-3:-2]) #negative indexing"
   ]
  },
  {
   "cell_type": "code",
   "execution_count": 54,
   "metadata": {},
   "outputs": [],
   "source": [
    "# Concatenation of strings"
   ]
  },
  {
   "cell_type": "code",
   "execution_count": 60,
   "metadata": {},
   "outputs": [
    {
     "name": "stdout",
     "output_type": "stream",
     "text": [
      "HelloWorld\n",
      "Hello World\n",
      "My name is John, I am 19\n"
     ]
    }
   ],
   "source": [
    "a = \"Hello\"\n",
    "b = \"World\"\n",
    "c = a + b\n",
    "print(c)\n",
    "c = a +\" \"+ b\n",
    "print(c)\n",
    "age=19\n",
    "text = f\"My name is John, I am {age}\"\n",
    "print(text)"
   ]
  },
  {
   "cell_type": "code",
   "execution_count": 61,
   "metadata": {},
   "outputs": [],
   "source": [
    "#Python Booleans"
   ]
  },
  {
   "cell_type": "code",
   "execution_count": 62,
   "metadata": {},
   "outputs": [
    {
     "name": "stdout",
     "output_type": "stream",
     "text": [
      "True\n",
      "True\n",
      "False\n"
     ]
    }
   ],
   "source": [
    "print(15 > 9)\n",
    "print(10 == 10)\n",
    "print(10 < 2)"
   ]
  },
  {
   "cell_type": "code",
   "execution_count": 63,
   "metadata": {},
   "outputs": [],
   "source": [
    "#Python Operators"
   ]
  },
  {
   "cell_type": "code",
   "execution_count": 65,
   "metadata": {},
   "outputs": [
    {
     "data": {
      "text/plain": [
       "1"
      ]
     },
     "execution_count": 65,
     "metadata": {},
     "output_type": "execute_result"
    }
   ],
   "source": [
    "2+2 #Print seperately separetly\n",
    "2-2\n",
    "2/2\n",
    "2*2\n",
    "2**2\n",
    "2//2"
   ]
  },
  {
   "cell_type": "code",
   "execution_count": 67,
   "metadata": {},
   "outputs": [],
   "source": [
    "#Python List"
   ]
  },
  {
   "cell_type": "code",
   "execution_count": 1,
   "metadata": {},
   "outputs": [
    {
     "name": "stdout",
     "output_type": "stream",
     "text": [
      "Faiqa\n",
      "['Anaya', 'Hania', 'Faiqa', 'Kousar']\n",
      "['Anaya', 'Hania', 'Faiqa', 'Kousar', 'Jannat']\n",
      "['Jannat', 'Anaya', 'Hania', 'Faiqa', 'Kousar', 'Jannat']\n",
      "['Jannat', 'Anaya', 'Hania', 'Faiqa', 'Kousar', 'Jannat', 'Cutie', 'Choco', 'Beauty']\n",
      "['Jannat', 'Anaya', 'Hania', 'Faiqa', 'Jannat', 'Cutie', 'Choco', 'Beauty']\n",
      "['Jannat', 'Anaya', 'Hania', 'Jannat', 'Cutie', 'Choco', 'Beauty']\n",
      "['Jannat', 'Anaya', 'Hania', 'Jannat', 'Choco', 'Beauty']\n",
      "<class 'list'>\n",
      "[]\n"
     ]
    }
   ],
   "source": [
    "list=[\"Fatima\",\"Faiqa\",\"Kousar\"]\n",
    "list2=[\"Cutie\",\"Choco\",\"Beauty\"]\n",
    "print(list[1])#display 1 index data\n",
    "list[0:1]=[\"Anaya\",\"Hania\"]#change index \n",
    "print(list)\n",
    "list.append(\"Jannat\")#add one index\n",
    "print(list)\n",
    "list.insert(0,\"Jannat\")#insert on 0\n",
    "print(list)\n",
    "list.extend(list2)#append two lists\n",
    "print(list)\n",
    "list.remove(\"Kousar\")#remove from list\n",
    "print(list)\n",
    "list.pop(3)#pop from list\n",
    "print(list)\n",
    "del list[4]#delete one \n",
    "print(list)\n",
    "del list\n",
    "print(list)\n",
    "list2.clear()#clear the list\n",
    "print(list2)"
   ]
  },
  {
   "cell_type": "code",
   "execution_count": 3,
   "metadata": {},
   "outputs": [],
   "source": [
    "#Loop List"
   ]
  },
  {
   "cell_type": "code",
   "execution_count": 7,
   "metadata": {},
   "outputs": [
    {
     "name": "stdout",
     "output_type": "stream",
     "text": [
      "Fatima\n",
      "Faiqa\n",
      "Kousar\n",
      "Fatima\n",
      "Faiqa\n",
      "Kousar\n",
      "Fatima\n",
      "Faiqa\n",
      "Kousar\n",
      "['apple']\n",
      "['apple', 'banana']\n",
      "['apple', 'banana', 'mango']\n"
     ]
    }
   ],
   "source": [
    "list1=[\"Fatima\",\"Faiqa\",\"Kousar\"]\n",
    "for x in list1:#for loop syntax\n",
    "  print(x)#print items one by one\n",
    "for i in range(len(list1)):#point i to index 0\n",
    "   print(list1[i])  \n",
    "j = 0\n",
    "while j < len(list1): # with while loop\n",
    "  print(list1[j])\n",
    "  j = j + 1  \n",
    "  fruits = [\"apple\", \"banana\", \"cherry\", \"kiwi\", \"mango\"]\n",
    "newlist = []\n",
    "\n",
    "for x in fruits:\n",
    "  if \"a\" in x:\n",
    "    newlist.append(x) #Python Comprehension\n",
    "    \n",
    "    print(newlist)  "
   ]
  },
  {
   "cell_type": "code",
   "execution_count": 8,
   "metadata": {},
   "outputs": [],
   "source": [
    "#List Sorting"
   ]
  },
  {
   "cell_type": "code",
   "execution_count": 26,
   "metadata": {},
   "outputs": [
    {
     "name": "stdout",
     "output_type": "stream",
     "text": [
      "['A', 'B', 'C', 'D', 'E']\n",
      "['E', 'D', 'C', 'B', 'A']\n",
      "E\n",
      "D\n",
      "C\n",
      "B\n",
      "A\n"
     ]
    }
   ],
   "source": [
    "list=[\"D\",\"B\",\"C\",\"A\",\"E\"]\n",
    "list.sort()#ascending order\n",
    "print(list)\n",
    "list.sort(reverse=True)#descending order\n",
    "print(list)\n",
    "copylist=list.copy()#copy the list\n",
    "for x in copylist:\n",
    " print(x)\n",
    "#  list.count(3)\n",
    "#  print(list)"
   ]
  },
  {
   "cell_type": "code",
   "execution_count": 27,
   "metadata": {},
   "outputs": [],
   "source": [
    "#Python Tuple"
   ]
  },
  {
   "cell_type": "code",
   "execution_count": 34,
   "metadata": {},
   "outputs": [
    {
     "name": "stdout",
     "output_type": "stream",
     "text": [
      "('Red', 'Green', 'Blue', 'Orange', 'Red')\n",
      "FatimaMomin\n",
      "('20', 'A', '56', 'V')\n"
     ]
    }
   ],
   "source": [
    "thistuple = (\"Red\", \"Green\", \"Blue\", \"Orange\", \"Red\")#allow duplicates\n",
    "print(thistuple)\n",
    "tuple=(\"FatimaMomin\")#one tuple\n",
    "print(tuple)\n",
    "tuple1=(\"20\",\"A\",\"56\",\"V\")#multiple string integers in tuple\n",
    "print(tuple1)"
   ]
  },
  {
   "cell_type": "code",
   "execution_count": 35,
   "metadata": {},
   "outputs": [],
   "source": [
    "#Python Dictionary"
   ]
  },
  {
   "cell_type": "code",
   "execution_count": 45,
   "metadata": {},
   "outputs": [
    {
     "name": "stdout",
     "output_type": "stream",
     "text": [
      "{'brand': 'MINIMINORS', 'model': 'IP1', 'year': 1964, 'Storage': 34}\n",
      "34\n",
      "90\n",
      "2025\n",
      "Branded\n",
      "{'brand': 'MINIMINORS', 'model': 'IP1', 'year': 2025, 'Storage': 90}\n"
     ]
    }
   ],
   "source": [
    "dict = {\n",
    "  \"brand\": \"MINIMINORS\",\n",
    "  \"model\": \"IP1\",\n",
    "  \"year\": 1964,\n",
    "  \"Storage\": 34\n",
    "}\n",
    "print(dict)\n",
    "print(dict[\"Storage\"])#print one specific\n",
    "dict[\"Storage\"]=90 #change value\n",
    "print(dict[\"Storage\"])\n",
    "dict.update({\"year\": 2025})#another method\n",
    "print(dict[\"year\"])\n",
    "dict[\"New\"]=\"Branded\"#add item\n",
    "print(dict[\"New\"])\n",
    "dict.pop(\"New\")#remove or pop item\n",
    "print(dict)"
   ]
  },
  {
   "cell_type": "code",
   "execution_count": 46,
   "metadata": {},
   "outputs": [],
   "source": [
    "#Nested Dictionary"
   ]
  },
  {
   "cell_type": "code",
   "execution_count": 51,
   "metadata": {},
   "outputs": [
    {
     "name": "stdout",
     "output_type": "stream",
     "text": [
      "{'child1': {'name': 'Emil', 'year': 2004}, 'child2': {'name': 'Tobias', 'year': 2007}, 'child3': {'name': 'Linus', 'year': 2011}}\n",
      "Tobias\n",
      "child1\n",
      "child2\n",
      "child3\n"
     ]
    }
   ],
   "source": [
    "myfamily = {\n",
    "  \"child1\" : {\n",
    "    \"name\" : \"Emil\",\n",
    "    \"year\" : 2004\n",
    "  },\n",
    "  \"child2\" : {\n",
    "    \"name\" : \"Tobias\",\n",
    "    \"year\" : 2007\n",
    "  },\n",
    "  \"child3\" : {\n",
    "    \"name\" : \"Linus\",\n",
    "    \"year\" : 2011\n",
    "  }\n",
    "} \n",
    "print(myfamily)\n",
    "print(myfamily[\"child2\"][\"name\"])\n",
    "for x in myfamily: \n",
    " print(x)"
   ]
  },
  {
   "cell_type": "code",
   "execution_count": 52,
   "metadata": {},
   "outputs": [],
   "source": [
    "#if else statements"
   ]
  },
  {
   "cell_type": "code",
   "execution_count": 55,
   "metadata": {},
   "outputs": [
    {
     "name": "stdout",
     "output_type": "stream",
     "text": [
      "b has greater value\n"
     ]
    }
   ],
   "source": [
    "a=10 \n",
    "b=20\n",
    "if b > a:\n",
    "    print(\"b has greater value\")"
   ]
  },
  {
   "cell_type": "code",
   "execution_count": 57,
   "metadata": {},
   "outputs": [
    {
     "name": "stdout",
     "output_type": "stream",
     "text": [
      "a has greater value\n"
     ]
    }
   ],
   "source": [
    "a=10 \n",
    "b=0\n",
    "if b > a:\n",
    "    print(\"b has greater value\")   \n",
    "else:\n",
    "    print(\"a has greater value\")     "
   ]
  },
  {
   "cell_type": "code",
   "execution_count": 59,
   "metadata": {},
   "outputs": [
    {
     "name": "stdout",
     "output_type": "stream",
     "text": [
      "a and b are equal\n"
     ]
    }
   ],
   "source": [
    "a=10\n",
    "b=10\n",
    "if b>a:\n",
    "    print(\"b is greater\")\n",
    "elif a==b:\n",
    " print(\"a and b are equal\")\n",
    "else:\n",
    "   print(\"a is greater\")"
   ]
  },
  {
   "cell_type": "code",
   "execution_count": 60,
   "metadata": {},
   "outputs": [
    {
     "name": "stdout",
     "output_type": "stream",
     "text": [
      "a is greater\n"
     ]
    }
   ],
   "source": [
    "a = 50\n",
    "b = 30\n",
    "c = 40\n",
    "if a > b and a > c: #AND Operator\n",
    "  print(\"a is greater\")\n",
    "elif b > a and b > c:\n",
    "  print(\"b is greater\")\n",
    "else:\n",
    "   print(\"c is greater\")   "
   ]
  },
  {
   "cell_type": "code",
   "execution_count": 63,
   "metadata": {},
   "outputs": [
    {
     "name": "stdout",
     "output_type": "stream",
     "text": [
      "c is greater\n"
     ]
    }
   ],
   "source": [
    "a = 50\n",
    "b = 60\n",
    "c = 80\n",
    "if a > b and a > c: #OR Operator\n",
    "  print(\"a is greater\")\n",
    "elif b > a and b > c:\n",
    "  print(\"b is greater\")\n",
    "else:\n",
    "   print(\"c is greater\")   "
   ]
  },
  {
   "cell_type": "code",
   "execution_count": 64,
   "metadata": {},
   "outputs": [
    {
     "name": "stdout",
     "output_type": "stream",
     "text": [
      "a is NOT greater than b\n"
     ]
    }
   ],
   "source": [
    "a = 100\n",
    "b = 200\n",
    "if not a > b:#Not operator\n",
    "  print(\"a is NOT greater than b\")"
   ]
  },
  {
   "cell_type": "code",
   "execution_count": 66,
   "metadata": {},
   "outputs": [
    {
     "name": "stdout",
     "output_type": "stream",
     "text": [
      "Above ten,\n",
      "and also above 20!\n",
      "above from 30\n"
     ]
    }
   ],
   "source": [
    "x = 41\n",
    "\n",
    "if x > 10:\n",
    "  print(\"Above ten,\")\n",
    "  if x > 20: #nested if\n",
    "    print(\"and also above 20!\")\n",
    "    if x>30:\n",
    "      print(\"above from 30\")\n",
    "  else:\n",
    "    print(\"but not above 20.\")"
   ]
  },
  {
   "cell_type": "code",
   "execution_count": 67,
   "metadata": {},
   "outputs": [
    {
     "name": "stdout",
     "output_type": "stream",
     "text": [
      "1\n",
      "2\n",
      "3\n"
     ]
    }
   ],
   "source": [
    "i = 1\n",
    "while i < 6:\n",
    "  print(i)\n",
    "  if i == 3:\n",
    "    break #break or exit the while loop\n",
    "  i += 1 # or i = i+1"
   ]
  },
  {
   "cell_type": "code",
   "execution_count": 68,
   "metadata": {},
   "outputs": [
    {
     "name": "stdout",
     "output_type": "stream",
     "text": [
      "FATIMA ROLLNUMBERS\n",
      "FAIQA ROLLNUMBERS\n",
      "KOUSAR ROLLNUMBERS\n"
     ]
    }
   ],
   "source": [
    "def function(fname): #Python functions\n",
    "  print(fname + \" ROLLNUMBERS\")\n",
    "\n",
    "function(\"FATIMA\") #passing arguments and calling func\n",
    "function(\"FAIQA\")\n",
    "function(\"KOUSAR\")"
   ]
  },
  {
   "cell_type": "code",
   "execution_count": 71,
   "metadata": {},
   "outputs": [
    {
     "name": "stdout",
     "output_type": "stream",
     "text": [
      "My friend is HANIYA\n"
     ]
    }
   ],
   "source": [
    "def function(*fname): #no.of argu\n",
    "  print(\"My friend is \"+ fname[1])\n",
    "\n",
    "function(\"FATIMA\",\"HANIYA\",\"JENNIE\") #passing arguments and calling func"
   ]
  },
  {
   "cell_type": "code",
   "execution_count": 1,
   "metadata": {},
   "outputs": [],
   "source": [
    "#Python Lambda"
   ]
  },
  {
   "cell_type": "code",
   "execution_count": 3,
   "metadata": {},
   "outputs": [
    {
     "name": "stdout",
     "output_type": "stream",
     "text": [
      "15\n",
      "30\n"
     ]
    }
   ],
   "source": [
    "x = lambda a : a + 10\n",
    "print(x(5))#passing \"a\" value\n",
    "x = lambda a, b : a * b\n",
    "print(x(5, 6)) #multiplication and value of a & b"
   ]
  },
  {
   "cell_type": "code",
   "execution_count": 4,
   "metadata": {},
   "outputs": [],
   "source": [
    "#Python Classes/Objects"
   ]
  },
  {
   "cell_type": "code",
   "execution_count": 5,
   "metadata": {},
   "outputs": [
    {
     "name": "stdout",
     "output_type": "stream",
     "text": [
      "5\n"
     ]
    }
   ],
   "source": [
    "class MyClass:\n",
    "  x = 5\n",
    "\n",
    "p1 = MyClass() \n",
    "print(p1.x)"
   ]
  }
 ],
 "metadata": {
  "kernelspec": {
   "display_name": "Python 3",
   "language": "python",
   "name": "python3"
  },
  "language_info": {
   "codemirror_mode": {
    "name": "ipython",
    "version": 3
   },
   "file_extension": ".py",
   "mimetype": "text/x-python",
   "name": "python",
   "nbconvert_exporter": "python",
   "pygments_lexer": "ipython3",
   "version": "3.13.2"
  }
 },
 "nbformat": 4,
 "nbformat_minor": 2
}
