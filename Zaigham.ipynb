print("Welcome to AI Class")
a=5
b=3
c=a+b
print(c)
