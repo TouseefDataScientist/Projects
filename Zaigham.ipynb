print("Welcome to AI Class")
