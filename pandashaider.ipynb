{
 "cells": [
  {
   "cell_type": "markdown",
   "metadata": {},
   "source": [
    "# haider nasir\n",
    "\n",
    "haidernasir57@gmail.com <br>\n",
    "\n",
    "[Github:haidernasirr ](https://github.com/haidernasirr)"
   ]
  },
  {
   "cell_type": "code",
   "execution_count": 1,
   "metadata": {},
   "outputs": [
    {
     "name": "stdout",
     "output_type": "stream",
     "text": [
      "Collecting pandas\n",
      "  Using cached pandas-2.2.3-cp313-cp313-win_amd64.whl.metadata (19 kB)\n",
      "Collecting numpy>=1.26.0 (from pandas)\n",
      "  Using cached numpy-2.2.3-cp313-cp313-win_amd64.whl.metadata (60 kB)\n",
      "Requirement already satisfied: python-dateutil>=2.8.2 in c:\\users\\haider\\appdata\\roaming\\python\\python313\\site-packages (from pandas) (2.9.0.post0)\n",
      "Collecting pytz>=2020.1 (from pandas)\n",
      "  Using cached pytz-2025.1-py2.py3-none-any.whl.metadata (22 kB)\n",
      "Collecting tzdata>=2022.7 (from pandas)\n",
      "  Using cached tzdata-2025.1-py2.py3-none-any.whl.metadata (1.4 kB)\n",
      "Requirement already satisfied: six>=1.5 in c:\\users\\haider\\appdata\\roaming\\python\\python313\\site-packages (from python-dateutil>=2.8.2->pandas) (1.17.0)\n",
      "Using cached pandas-2.2.3-cp313-cp313-win_amd64.whl (11.5 MB)\n",
      "Using cached numpy-2.2.3-cp313-cp313-win_amd64.whl (12.6 MB)\n",
      "Using cached pytz-2025.1-py2.py3-none-any.whl (507 kB)\n",
      "Using cached tzdata-2025.1-py2.py3-none-any.whl (346 kB)\n",
      "Installing collected packages: pytz, tzdata, numpy, pandas\n",
      "Successfully installed numpy-2.2.3 pandas-2.2.3 pytz-2025.1 tzdata-2025.1\n",
      "Note: you may need to restart the kernel to use updated packages.\n"
     ]
    }
   ],
   "source": [
    "pip install pandas \n"
   ]
  },
  {
   "cell_type": "code",
   "execution_count": 4,
   "metadata": {},
   "outputs": [
    {
     "name": "stdout",
     "output_type": "stream",
     "text": [
      "data set\n",
      "             Name Designation Gender    Age     Salary\n",
      "0         Mukhtar   Professor      M   37.0   115000.0\n",
      "1           Azziz     Teacher      M   30.0    35000.0\n",
      "2          Mohsin    Engineer      M   29.0    50000.0\n",
      "3   Naveed Fatima     Analyst      F   30.0    70000.0\n",
      "4           Babar    Engineer      F   25.0  1500000.0\n",
      "5            Aqsa   Scientist      F   22.0        NaN\n",
      "6           Rafia     Analyst      F   29.0    20000.0\n",
      "7           Samra   Scientist      F   26.0   115000.0\n",
      "8            Eman    Engineer      F   28.0    35000.0\n",
      "9        Abdullah     Teacher      M   55.0        NaN\n",
      "10          Mosib   professor      M   60.0    70000.0\n",
      "11          Ahmed    engineer      M    NaN    90000.0\n",
      "12          Ahsan     trainer      M  156.0   110000.0\n",
      "13          Wajid     teacher      M   67.0     2000.0\n",
      "14          Naeem     trainer      M   80.0    16000.0\n",
      "15         Qaisar   professor      M   20.0   170000.0\n",
      "16          Wajid    Engineer      M   85.0   190000.0\n",
      "            Name Designation Gender   Age     Salary\n",
      "0        Mukhtar   Professor      M  37.0   115000.0\n",
      "1          Azziz     Teacher      M  30.0    35000.0\n",
      "2         Mohsin    Engineer      M  29.0    50000.0\n",
      "3  Naveed Fatima     Analyst      F  30.0    70000.0\n",
      "4          Babar    Engineer      F  25.0  1500000.0\n"
     ]
    }
   ],
   "source": [
    "import pandas as pd\n",
    "pd.read_csv('data.csv')\n",
    "\n",
    "df = pd.read_csv('data.csv')\n",
    "\n",
    "# Display the first few rows of the DataFrame\n",
    "print ('data set')\n",
    "print(df)\n",
    "print(df.head())\n",
    "\n"
   ]
  },
  {
   "cell_type": "code",
   "execution_count": 5,
   "metadata": {},
   "outputs": [
    {
     "name": "stdout",
     "output_type": "stream",
     "text": [
      "Collecting openpyxl\n",
      "  Downloading openpyxl-3.1.5-py2.py3-none-any.whl.metadata (2.5 kB)\n",
      "Collecting et-xmlfile (from openpyxl)\n",
      "  Downloading et_xmlfile-2.0.0-py3-none-any.whl.metadata (2.7 kB)\n",
      "Downloading openpyxl-3.1.5-py2.py3-none-any.whl (250 kB)\n",
      "Downloading et_xmlfile-2.0.0-py3-none-any.whl (18 kB)\n",
      "Installing collected packages: et-xmlfile, openpyxl\n",
      "Successfully installed et-xmlfile-2.0.0 openpyxl-3.1.5\n",
      "Note: you may need to restart the kernel to use updated packages.\n"
     ]
    }
   ],
   "source": [
    "%pip install openpyxl"
   ]
  },
  {
   "cell_type": "code",
   "execution_count": 9,
   "metadata": {},
   "outputs": [
    {
     "name": "stdout",
     "output_type": "stream",
     "text": [
      "             Name Designation Gender    Age     Salary\n",
      "0         Mukhtar   Professor      M   37.0   115000.0\n",
      "1           Azziz     Teacher      M   30.0    35000.0\n",
      "2          Mohsin    Engineer      M   29.0    50000.0\n",
      "3   Naveed Fatima     Analyst      F   30.0    70000.0\n",
      "4           Babar    Engineer      F   25.0  1500000.0\n",
      "5            Aqsa   Scientist      F   22.0        NaN\n",
      "6           Rafia     Analyst      F   29.0    20000.0\n",
      "7           Samra   Scientist      F   26.0   115000.0\n",
      "8            Eman    Engineer      F   28.0    35000.0\n",
      "9        Abdullah     Teacher      M   55.0        NaN\n",
      "10          Mosib   professor      M   60.0    70000.0\n",
      "11          Ahmed    engineer      M    NaN    90000.0\n",
      "12          Ahsan     trainer      M  156.0   110000.0\n",
      "13          Wajid     teacher      M   67.0     2000.0\n",
      "14          Naeem     trainer      M   80.0    16000.0\n",
      "15         Qaisar   professor      M   20.0   170000.0\n",
      "16          Wajid    Engineer      M   85.0   190000.0\n"
     ]
    }
   ],
   "source": [
    "df=pd.read_excel('data.xlsx')\n",
    "print(df)\n",
    "\n"
   ]
  },
  {
   "cell_type": "code",
   "execution_count": 11,
   "metadata": {},
   "outputs": [
    {
     "name": "stdout",
     "output_type": "stream",
     "text": [
      "            Name Designation Gender   Age     Salary\n",
      "0        Mukhtar   Professor      M  37.0   115000.0\n",
      "1          Azziz     Teacher      M  30.0    35000.0\n",
      "2         Mohsin    Engineer      M  29.0    50000.0\n",
      "3  Naveed Fatima     Analyst      F  30.0    70000.0\n",
      "4          Babar    Engineer      F  25.0  1500000.0\n"
     ]
    }
   ],
   "source": [
    "print(df.head())"
   ]
  },
  {
   "cell_type": "code",
   "execution_count": 12,
   "metadata": {},
   "outputs": [
    {
     "data": {
      "text/html": [
       "<div>\n",
       "<style scoped>\n",
       "    .dataframe tbody tr th:only-of-type {\n",
       "        vertical-align: middle;\n",
       "    }\n",
       "\n",
       "    .dataframe tbody tr th {\n",
       "        vertical-align: top;\n",
       "    }\n",
       "\n",
       "    .dataframe thead th {\n",
       "        text-align: right;\n",
       "    }\n",
       "</style>\n",
       "<table border=\"1\" class=\"dataframe\">\n",
       "  <thead>\n",
       "    <tr style=\"text-align: right;\">\n",
       "      <th></th>\n",
       "      <th>Name</th>\n",
       "      <th>Designation</th>\n",
       "      <th>Gender</th>\n",
       "      <th>Age</th>\n",
       "      <th>Salary</th>\n",
       "    </tr>\n",
       "  </thead>\n",
       "  <tbody>\n",
       "    <tr>\n",
       "      <th>12</th>\n",
       "      <td>Ahsan</td>\n",
       "      <td>trainer</td>\n",
       "      <td>M</td>\n",
       "      <td>156.0</td>\n",
       "      <td>110000.0</td>\n",
       "    </tr>\n",
       "    <tr>\n",
       "      <th>13</th>\n",
       "      <td>Wajid</td>\n",
       "      <td>teacher</td>\n",
       "      <td>M</td>\n",
       "      <td>67.0</td>\n",
       "      <td>2000.0</td>\n",
       "    </tr>\n",
       "    <tr>\n",
       "      <th>14</th>\n",
       "      <td>Naeem</td>\n",
       "      <td>trainer</td>\n",
       "      <td>M</td>\n",
       "      <td>80.0</td>\n",
       "      <td>16000.0</td>\n",
       "    </tr>\n",
       "    <tr>\n",
       "      <th>15</th>\n",
       "      <td>Qaisar</td>\n",
       "      <td>professor</td>\n",
       "      <td>M</td>\n",
       "      <td>20.0</td>\n",
       "      <td>170000.0</td>\n",
       "    </tr>\n",
       "    <tr>\n",
       "      <th>16</th>\n",
       "      <td>Wajid</td>\n",
       "      <td>Engineer</td>\n",
       "      <td>M</td>\n",
       "      <td>85.0</td>\n",
       "      <td>190000.0</td>\n",
       "    </tr>\n",
       "  </tbody>\n",
       "</table>\n",
       "</div>"
      ],
      "text/plain": [
       "      Name Designation Gender    Age    Salary\n",
       "12   Ahsan     trainer      M  156.0  110000.0\n",
       "13   Wajid     teacher      M   67.0    2000.0\n",
       "14   Naeem     trainer      M   80.0   16000.0\n",
       "15  Qaisar   professor      M   20.0  170000.0\n",
       "16   Wajid    Engineer      M   85.0  190000.0"
      ]
     },
     "execution_count": 12,
     "metadata": {},
     "output_type": "execute_result"
    }
   ],
   "source": [
    "df.tail()"
   ]
  },
  {
   "cell_type": "code",
   "execution_count": 13,
   "metadata": {},
   "outputs": [
    {
     "data": {
      "text/html": [
       "<div>\n",
       "<style scoped>\n",
       "    .dataframe tbody tr th:only-of-type {\n",
       "        vertical-align: middle;\n",
       "    }\n",
       "\n",
       "    .dataframe tbody tr th {\n",
       "        vertical-align: top;\n",
       "    }\n",
       "\n",
       "    .dataframe thead th {\n",
       "        text-align: right;\n",
       "    }\n",
       "</style>\n",
       "<table border=\"1\" class=\"dataframe\">\n",
       "  <thead>\n",
       "    <tr style=\"text-align: right;\">\n",
       "      <th></th>\n",
       "      <th>Name</th>\n",
       "      <th>Designation</th>\n",
       "      <th>Gender</th>\n",
       "      <th>Age</th>\n",
       "      <th>Salary</th>\n",
       "    </tr>\n",
       "  </thead>\n",
       "  <tbody>\n",
       "    <tr>\n",
       "      <th>8</th>\n",
       "      <td>Eman</td>\n",
       "      <td>Engineer</td>\n",
       "      <td>F</td>\n",
       "      <td>28.0</td>\n",
       "      <td>35000.0</td>\n",
       "    </tr>\n",
       "    <tr>\n",
       "      <th>9</th>\n",
       "      <td>Abdullah</td>\n",
       "      <td>Teacher</td>\n",
       "      <td>M</td>\n",
       "      <td>55.0</td>\n",
       "      <td>NaN</td>\n",
       "    </tr>\n",
       "  </tbody>\n",
       "</table>\n",
       "</div>"
      ],
      "text/plain": [
       "       Name Designation Gender   Age   Salary\n",
       "8      Eman    Engineer      F  28.0  35000.0\n",
       "9  Abdullah     Teacher      M  55.0      NaN"
      ]
     },
     "execution_count": 13,
     "metadata": {},
     "output_type": "execute_result"
    }
   ],
   "source": [
    "df.loc[8:9]"
   ]
  },
  {
   "cell_type": "code",
   "execution_count": 14,
   "metadata": {},
   "outputs": [
    {
     "data": {
      "text/plain": [
       "<bound method NDFrame.describe of              Name Designation Gender    Age     Salary\n",
       "0         Mukhtar   Professor      M   37.0   115000.0\n",
       "1           Azziz     Teacher      M   30.0    35000.0\n",
       "2          Mohsin    Engineer      M   29.0    50000.0\n",
       "3   Naveed Fatima     Analyst      F   30.0    70000.0\n",
       "4           Babar    Engineer      F   25.0  1500000.0\n",
       "5            Aqsa   Scientist      F   22.0        NaN\n",
       "6           Rafia     Analyst      F   29.0    20000.0\n",
       "7           Samra   Scientist      F   26.0   115000.0\n",
       "8            Eman    Engineer      F   28.0    35000.0\n",
       "9        Abdullah     Teacher      M   55.0        NaN\n",
       "10          Mosib   professor      M   60.0    70000.0\n",
       "11          Ahmed    engineer      M    NaN    90000.0\n",
       "12          Ahsan     trainer      M  156.0   110000.0\n",
       "13          Wajid     teacher      M   67.0     2000.0\n",
       "14          Naeem     trainer      M   80.0    16000.0\n",
       "15         Qaisar   professor      M   20.0   170000.0\n",
       "16          Wajid    Engineer      M   85.0   190000.0>"
      ]
     },
     "execution_count": 14,
     "metadata": {},
     "output_type": "execute_result"
    }
   ],
   "source": [
    "df.describe"
   ]
  },
  {
   "cell_type": "code",
   "execution_count": 15,
   "metadata": {},
   "outputs": [
    {
     "data": {
      "text/plain": [
       "(17, 5)"
      ]
     },
     "execution_count": 15,
     "metadata": {},
     "output_type": "execute_result"
    }
   ],
   "source": [
    "df.shape"
   ]
  },
  {
   "cell_type": "code",
   "execution_count": 16,
   "metadata": {},
   "outputs": [
    {
     "data": {
      "text/plain": [
       "0     Professor\n",
       "1       Teacher\n",
       "2      Engineer\n",
       "3       Analyst\n",
       "4      Engineer\n",
       "5     Scientist\n",
       "6       Analyst\n",
       "7     Scientist\n",
       "8      Engineer\n",
       "9       Teacher\n",
       "10    professor\n",
       "11     engineer\n",
       "12      trainer\n",
       "13      teacher\n",
       "14      trainer\n",
       "15    professor\n",
       "16     Engineer\n",
       "Name: Designation, dtype: object"
      ]
     },
     "execution_count": 16,
     "metadata": {},
     "output_type": "execute_result"
    }
   ],
   "source": [
    "df.Designation"
   ]
  },
  {
   "cell_type": "code",
   "execution_count": 29,
   "metadata": {},
   "outputs": [
    {
     "name": "stdout",
     "output_type": "stream",
     "text": [
      "             Name Designation Gender    Age     Salary\n",
      "0         Mukhtar   Professor      M   37.0   115000.0\n",
      "1           Azziz     Teacher      M   30.0    35000.0\n",
      "2          Mohsin    Engineer      M   29.0    50000.0\n",
      "3   Naveed Fatima     Analyst      F   30.0    70000.0\n",
      "4           Babar    Engineer      F   25.0  1500000.0\n",
      "5            Aqsa   Scientist      F   22.0        NaN\n",
      "6           Rafia     Analyst      F   29.0    20000.0\n",
      "7           Samra   Scientist      F   26.0   115000.0\n",
      "8            Eman    Engineer      F   28.0    35000.0\n",
      "9        Abdullah     Teacher      M   55.0        NaN\n",
      "10          Mosib   professor      M   60.0    70000.0\n",
      "11          Ahmed    engineer      M    NaN    90000.0\n",
      "12          Ahsan     trainer      M  156.0   110000.0\n",
      "13          Wajid     teacher      M   67.0     2000.0\n",
      "14          Naeem     trainer      M   80.0    16000.0\n",
      "15         Qaisar   professor      M   20.0   170000.0\n",
      "16          Wajid    Engineer      M   85.0   190000.0\n"
     ]
    }
   ],
   "source": [
    "df=pd.read_excel('data.xlsx')\n",
    "print(df)"
   ]
  },
  {
   "cell_type": "code",
   "execution_count": 30,
   "metadata": {},
   "outputs": [
    {
     "data": {
      "text/plain": [
       "0           Mukhtar\n",
       "1             Azziz\n",
       "2            Mohsin\n",
       "3     Naveed Fatima\n",
       "4             Babar\n",
       "5              Aqsa\n",
       "6             Rafia\n",
       "7             Samra\n",
       "8              Eman\n",
       "9          Abdullah\n",
       "10            Mosib\n",
       "11            Ahmed\n",
       "12            Ahsan\n",
       "13            Wajid\n",
       "14            Naeem\n",
       "15           Qaisar\n",
       "16            Wajid\n",
       "Name: Name, dtype: object"
      ]
     },
     "execution_count": 30,
     "metadata": {},
     "output_type": "execute_result"
    }
   ],
   "source": [
    "df['Name']"
   ]
  },
  {
   "cell_type": "code",
   "execution_count": 31,
   "metadata": {},
   "outputs": [
    {
     "data": {
      "text/html": [
       "<div>\n",
       "<style scoped>\n",
       "    .dataframe tbody tr th:only-of-type {\n",
       "        vertical-align: middle;\n",
       "    }\n",
       "\n",
       "    .dataframe tbody tr th {\n",
       "        vertical-align: top;\n",
       "    }\n",
       "\n",
       "    .dataframe thead th {\n",
       "        text-align: right;\n",
       "    }\n",
       "</style>\n",
       "<table border=\"1\" class=\"dataframe\">\n",
       "  <thead>\n",
       "    <tr style=\"text-align: right;\">\n",
       "      <th></th>\n",
       "      <th>Name</th>\n",
       "      <th>Designation</th>\n",
       "    </tr>\n",
       "  </thead>\n",
       "  <tbody>\n",
       "    <tr>\n",
       "      <th>0</th>\n",
       "      <td>Mukhtar</td>\n",
       "      <td>Professor</td>\n",
       "    </tr>\n",
       "    <tr>\n",
       "      <th>1</th>\n",
       "      <td>Azziz</td>\n",
       "      <td>Teacher</td>\n",
       "    </tr>\n",
       "    <tr>\n",
       "      <th>2</th>\n",
       "      <td>Mohsin</td>\n",
       "      <td>Engineer</td>\n",
       "    </tr>\n",
       "    <tr>\n",
       "      <th>3</th>\n",
       "      <td>Naveed Fatima</td>\n",
       "      <td>Analyst</td>\n",
       "    </tr>\n",
       "    <tr>\n",
       "      <th>4</th>\n",
       "      <td>Babar</td>\n",
       "      <td>Engineer</td>\n",
       "    </tr>\n",
       "    <tr>\n",
       "      <th>5</th>\n",
       "      <td>Aqsa</td>\n",
       "      <td>Scientist</td>\n",
       "    </tr>\n",
       "    <tr>\n",
       "      <th>6</th>\n",
       "      <td>Rafia</td>\n",
       "      <td>Analyst</td>\n",
       "    </tr>\n",
       "    <tr>\n",
       "      <th>7</th>\n",
       "      <td>Samra</td>\n",
       "      <td>Scientist</td>\n",
       "    </tr>\n",
       "    <tr>\n",
       "      <th>8</th>\n",
       "      <td>Eman</td>\n",
       "      <td>Engineer</td>\n",
       "    </tr>\n",
       "    <tr>\n",
       "      <th>9</th>\n",
       "      <td>Abdullah</td>\n",
       "      <td>Teacher</td>\n",
       "    </tr>\n",
       "    <tr>\n",
       "      <th>10</th>\n",
       "      <td>Mosib</td>\n",
       "      <td>professor</td>\n",
       "    </tr>\n",
       "    <tr>\n",
       "      <th>11</th>\n",
       "      <td>Ahmed</td>\n",
       "      <td>engineer</td>\n",
       "    </tr>\n",
       "    <tr>\n",
       "      <th>12</th>\n",
       "      <td>Ahsan</td>\n",
       "      <td>trainer</td>\n",
       "    </tr>\n",
       "    <tr>\n",
       "      <th>13</th>\n",
       "      <td>Wajid</td>\n",
       "      <td>teacher</td>\n",
       "    </tr>\n",
       "    <tr>\n",
       "      <th>14</th>\n",
       "      <td>Naeem</td>\n",
       "      <td>trainer</td>\n",
       "    </tr>\n",
       "    <tr>\n",
       "      <th>15</th>\n",
       "      <td>Qaisar</td>\n",
       "      <td>professor</td>\n",
       "    </tr>\n",
       "    <tr>\n",
       "      <th>16</th>\n",
       "      <td>Wajid</td>\n",
       "      <td>Engineer</td>\n",
       "    </tr>\n",
       "  </tbody>\n",
       "</table>\n",
       "</div>"
      ],
      "text/plain": [
       "             Name Designation\n",
       "0         Mukhtar   Professor\n",
       "1           Azziz     Teacher\n",
       "2          Mohsin    Engineer\n",
       "3   Naveed Fatima     Analyst\n",
       "4           Babar    Engineer\n",
       "5            Aqsa   Scientist\n",
       "6           Rafia     Analyst\n",
       "7           Samra   Scientist\n",
       "8            Eman    Engineer\n",
       "9        Abdullah     Teacher\n",
       "10          Mosib   professor\n",
       "11          Ahmed    engineer\n",
       "12          Ahsan     trainer\n",
       "13          Wajid     teacher\n",
       "14          Naeem     trainer\n",
       "15         Qaisar   professor\n",
       "16          Wajid    Engineer"
      ]
     },
     "execution_count": 31,
     "metadata": {},
     "output_type": "execute_result"
    }
   ],
   "source": [
    "df[['Name','Designation']]\n"
   ]
  },
  {
   "cell_type": "code",
   "execution_count": 32,
   "metadata": {},
   "outputs": [],
   "source": [
    "selected_column=df[['Name','Designation']]"
   ]
  },
  {
   "cell_type": "code",
   "execution_count": 37,
   "metadata": {},
   "outputs": [
    {
     "data": {
      "text/html": [
       "<div>\n",
       "<style scoped>\n",
       "    .dataframe tbody tr th:only-of-type {\n",
       "        vertical-align: middle;\n",
       "    }\n",
       "\n",
       "    .dataframe tbody tr th {\n",
       "        vertical-align: top;\n",
       "    }\n",
       "\n",
       "    .dataframe thead th {\n",
       "        text-align: right;\n",
       "    }\n",
       "</style>\n",
       "<table border=\"1\" class=\"dataframe\">\n",
       "  <thead>\n",
       "    <tr style=\"text-align: right;\">\n",
       "      <th></th>\n",
       "      <th>Name</th>\n",
       "      <th>Designation</th>\n",
       "      <th>Gender</th>\n",
       "      <th>Age</th>\n",
       "      <th>Salary</th>\n",
       "    </tr>\n",
       "  </thead>\n",
       "  <tbody>\n",
       "    <tr>\n",
       "      <th>4</th>\n",
       "      <td>Babar</td>\n",
       "      <td>Engineer</td>\n",
       "      <td>F</td>\n",
       "      <td>25.0</td>\n",
       "      <td>1500000.0</td>\n",
       "    </tr>\n",
       "    <tr>\n",
       "      <th>5</th>\n",
       "      <td>Aqsa</td>\n",
       "      <td>Scientist</td>\n",
       "      <td>F</td>\n",
       "      <td>22.0</td>\n",
       "      <td>NaN</td>\n",
       "    </tr>\n",
       "  </tbody>\n",
       "</table>\n",
       "</div>"
      ],
      "text/plain": [
       "    Name Designation Gender   Age     Salary\n",
       "4  Babar    Engineer      F  25.0  1500000.0\n",
       "5   Aqsa   Scientist      F  22.0        NaN"
      ]
     },
     "execution_count": 37,
     "metadata": {},
     "output_type": "execute_result"
    }
   ],
   "source": [
    "df.loc[4:5]"
   ]
  },
  {
   "cell_type": "code",
   "execution_count": 39,
   "metadata": {},
   "outputs": [],
   "source": [
    "df1=df[['Name','Designation']]"
   ]
  },
  {
   "cell_type": "code",
   "execution_count": 40,
   "metadata": {},
   "outputs": [
    {
     "data": {
      "text/html": [
       "<div>\n",
       "<style scoped>\n",
       "    .dataframe tbody tr th:only-of-type {\n",
       "        vertical-align: middle;\n",
       "    }\n",
       "\n",
       "    .dataframe tbody tr th {\n",
       "        vertical-align: top;\n",
       "    }\n",
       "\n",
       "    .dataframe thead th {\n",
       "        text-align: right;\n",
       "    }\n",
       "</style>\n",
       "<table border=\"1\" class=\"dataframe\">\n",
       "  <thead>\n",
       "    <tr style=\"text-align: right;\">\n",
       "      <th></th>\n",
       "      <th>Name</th>\n",
       "      <th>Designation</th>\n",
       "    </tr>\n",
       "  </thead>\n",
       "  <tbody>\n",
       "    <tr>\n",
       "      <th>4</th>\n",
       "      <td>Babar</td>\n",
       "      <td>Engineer</td>\n",
       "    </tr>\n",
       "    <tr>\n",
       "      <th>5</th>\n",
       "      <td>Aqsa</td>\n",
       "      <td>Scientist</td>\n",
       "    </tr>\n",
       "  </tbody>\n",
       "</table>\n",
       "</div>"
      ],
      "text/plain": [
       "    Name Designation\n",
       "4  Babar    Engineer\n",
       "5   Aqsa   Scientist"
      ]
     },
     "execution_count": 40,
     "metadata": {},
     "output_type": "execute_result"
    }
   ],
   "source": [
    "df1.loc[4:5]"
   ]
  },
  {
   "cell_type": "code",
   "execution_count": 41,
   "metadata": {},
   "outputs": [
    {
     "data": {
      "text/plain": [
       "Name           0\n",
       "Designation    0\n",
       "Gender         0\n",
       "Age            1\n",
       "Salary         2\n",
       "dtype: int64"
      ]
     },
     "execution_count": 41,
     "metadata": {},
     "output_type": "execute_result"
    }
   ],
   "source": [
    "df.isnull().sum()"
   ]
  },
  {
   "cell_type": "code",
   "execution_count": null,
   "metadata": {},
   "outputs": [],
   "source": []
  }
 ],
 "metadata": {
  "kernelspec": {
   "display_name": "Python 3",
   "language": "python",
   "name": "python3"
  },
  "language_info": {
   "codemirror_mode": {
    "name": "ipython",
    "version": 3
   },
   "file_extension": ".py",
   "mimetype": "text/x-python",
   "name": "python",
   "nbconvert_exporter": "python",
   "pygments_lexer": "ipython3",
   "version": "3.13.2"
  }
 },
 "nbformat": 4,
 "nbformat_minor": 2
}
