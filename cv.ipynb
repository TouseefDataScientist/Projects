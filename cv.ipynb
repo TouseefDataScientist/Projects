{
 "cells": [
  {
   "cell_type": "markdown",
   "metadata": {},
   "source": [
    "# QURATULAIN\n",
    "\n"
   ]
  },
  {
   "cell_type": "markdown",
   "metadata": {},
   "source": [
    "[Email](QuratulainAIML@hotmail.com)/ [Github](QuratulainAIML)"
   ]
  },
  {
   "cell_type": "markdown",
   "metadata": {},
   "source": [
    "## Summary\n",
    "An organized and dependable candidate successful at managing multiple priorities  with a positive attitude. Willingness to take an adde d responsibility to meet team goals.\n",
    "To seek and maintain a full-time position that offers  professional challenges utilizing interpersonal skills, excellent time management and problem-solving skills."
   ]
  },
  {
   "cell_type": "markdown",
   "metadata": {},
   "source": [
    "## Certifications\n",
    "Artificial Intelligence and Machine Learning<br>\n",
    "Python basics<br>\n",
    "Web Development<br>\n",
    "Freelancing<br>\n",
    "Wordpress<br>\n",
    "Virtual Assistant<br>\n"
   ]
  },
  {
   "cell_type": "markdown",
   "metadata": {},
   "source": [
    "## Skills\n",
    "Python/ C / C++ / Java/ OOP<br>\n",
    "Artificial Intelligence/ Web Developer / Virtual Assistant / Wordpress "
   ]
  },
  {
   "cell_type": "markdown",
   "metadata": {},
   "source": [
    "## Experience\n",
    "IT Instructor | GTTC(F)Kallar kahar, Chakwal.\n"
   ]
  },
  {
   "cell_type": "markdown",
   "metadata": {},
   "source": []
  }
 ],
 "metadata": {
  "kernelspec": {
   "display_name": "Python 3",
   "language": "python",
   "name": "python3"
  },
  "language_info": {
   "codemirror_mode": {
    "name": "ipython",
    "version": 3
   },
   "file_extension": ".py",
   "mimetype": "text/x-python",
   "name": "python",
   "nbconvert_exporter": "python",
   "pygments_lexer": "ipython3",
   "version": "3.13.2"
  }
 },
 "nbformat": 4,
 "nbformat_minor": 2
}
