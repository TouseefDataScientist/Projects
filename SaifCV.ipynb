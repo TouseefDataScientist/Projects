{
 "cells": [
  {
   "cell_type": "markdown",
   "metadata": {},
   "source": [
    "# **<center>Saif Ullah Khan</center>**\n",
    "## **<center>Mathematician</center>**\n",
    "### **<center>About Me</center>**\n",
    "Empathetic leader and motivator who possesses exceptional oral and\n",
    "written communication skills, the ability to solve problems creatively,\n",
    "and excels in establishing and maintaining relationships.\n",
    "### **<center>Experience</center>**\n",
    "<br>**Cambridge Mathematics Teacher**</br>\n",
    "<br>Kings House School London F-10, Islamabad _ 2024 to Continue</br>\n",
    "<br>**Cambridge Mathematics Teacher**</br>\n",
    "<br>Joan Mcdonald School H-8, Islamabad _ 2022 to 2024</br>\n",
    "<br>**Lecturer Mathematics**</br>\n",
    "<br>Govt. College of Technology Jauharabad _ 2021 to 2022</br>\n",
    "<br>**Lecturer Mathematics**</br>\n",
    "<br>Islamia College Jauharabad _ 2019 to 2021</br>\n",
    "### <br>**<center>Qualification</center>**\n",
    "<br>**MSc Mathematics**</br>\n",
    "<br>University of Education _ 2017 to 2019</br>\n",
    "<br>Obtained 3.31CGPA out of 4.00</br>\n",
    "<br>**BSc Physics, Mathematics A&B**</br>\n",
    "<br>University of Sargodha _ 2014 to 2016</br>\n",
    "<br>Obtained 420 marks out of 800</br>\n",
    "<br>**FSc (Pre-Engineering)**</br>\n",
    "<br>ILM College Jauharabad _ 2012 to 2014</br>\n",
    "<br>Obtained 675 marks out of 1100</br>\n",
    "<br>**Matric (Science)**</br>\n",
    "<br>Govt. Technical Modal High School Jauharabad _ 2010 to 2012</br>\n",
    "<br>Obtained 801 marks out of 1050</br>"
   ]
  },
  {
   "cell_type": "markdown",
   "metadata": {},
   "source": []
  }
 ],
 "metadata": {
  "language_info": {
   "name": "python"
  }
 },
 "nbformat": 4,
 "nbformat_minor": 2
}
