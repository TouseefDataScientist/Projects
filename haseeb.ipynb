{
 "cells": [
  {
   "cell_type": "markdown",
   "metadata": {},
   "source": [
    "# **Haseeb** <br>\n",
    "[email](https://www.example.com)/[github](https://www.example.com)<br>\n",
    "### Objective\n",
    "I am a hardworking and reliable person who can handle many tasks at once with a good attitude. I am ready to take on extra work to help my team succeed. I am looking for a full-time job where I can learn and grow while using my communication skills, time management, and problem-solving abilities.<br>\n",
    "### Certificate\n",
    "- Artificial Intelligence and Machine Learning<br>\n",
    "- Python basics<br>\n",
    "- Web Development<br>\n",
    "- Freelancing<br>\n",
    "- Wordpress<br>\n",
    "### Skills <br>\n",
    "1. Python\n",
    "2. C / C++ \n",
    "3. Java/ OOP\n",
    "4. Artificial Intelligence \n",
    "5. Web Developer \n",
    "6. irtual Assistant \n",
    "7. Wordpress\n",
    "\n"
   ]
  },
  {
   "cell_type": "markdown",
   "metadata": {},
   "source": [
    "\n"
   ]
  }
 ],
 "metadata": {
  "kernelspec": {
   "display_name": "Python 3",
   "language": "python",
   "name": "python3"
  },
  "language_info": {
   "name": "python",
   "version": "3.13.0"
  }
 },
 "nbformat": 4,
 "nbformat_minor": 2
}
